{
 "cells": [
  {
   "cell_type": "code",
   "execution_count": 1,
   "id": "99a950a9",
   "metadata": {},
   "outputs": [],
   "source": [
    "import numpy as np\n",
    "import pandas as pd\n",
    "import matplotlib.pyplot as plt\n",
    "import seaborn as sns\n",
    "from sklearn import preprocessing as pr\n",
    "from sklearn.preprocessing import LabelEncoder\n",
    "from sklearn.linear_model import LinearRegression\n",
    "from sklearn.svm import SVR\n",
    "from sklearn.tree import DecisionTreeRegressor\n",
    "from sklearn.metrics import confusion_matrix\n",
    "from sklearn import metrics\n",
    "from sklearn.metrics import accuracy_score, roc_auc_score, classification_report, roc_curve, plot_roc_curve, auc\n",
    "from sklearn import model_selection as ms\n",
    "from sklearn.model_selection import train_test_split\n",
    "from sklearn.metrics import r2_score, mean_absolute_error, mean_squared_error\n",
    "import statsmodels.api as st\n",
    "from sklearn.svm import SVC\n",
    "from sklearn.neighbors import KNeighborsClassifier\n",
    "from sklearn.linear_model import LogisticRegression\n",
    "from sklearn.naive_bayes import GaussianNB, BernoulliNB\n",
    "from sklearn.tree import DecisionTreeClassifier\n",
    "from sklearn.ensemble import RandomForestClassifier\n",
    "import warnings\n",
    "warnings.filterwarnings(\"ignore\")"
   ]
  },
  {
   "cell_type": "code",
   "execution_count": 2,
   "id": "97fa206b",
   "metadata": {},
   "outputs": [],
   "source": [
    "data=pd.read_csv('healthcare-dataset-stroke-data.csv')"
   ]
  },
  {
   "cell_type": "code",
   "execution_count": 3,
   "id": "5ea794db",
   "metadata": {},
   "outputs": [
    {
     "data": {
      "text/html": [
       "<div>\n",
       "<style scoped>\n",
       "    .dataframe tbody tr th:only-of-type {\n",
       "        vertical-align: middle;\n",
       "    }\n",
       "\n",
       "    .dataframe tbody tr th {\n",
       "        vertical-align: top;\n",
       "    }\n",
       "\n",
       "    .dataframe thead th {\n",
       "        text-align: right;\n",
       "    }\n",
       "</style>\n",
       "<table border=\"1\" class=\"dataframe\">\n",
       "  <thead>\n",
       "    <tr style=\"text-align: right;\">\n",
       "      <th></th>\n",
       "      <th>id</th>\n",
       "      <th>gender</th>\n",
       "      <th>age</th>\n",
       "      <th>hypertension</th>\n",
       "      <th>heart_disease</th>\n",
       "      <th>ever_married</th>\n",
       "      <th>work_type</th>\n",
       "      <th>Residence_type</th>\n",
       "      <th>avg_glucose_level</th>\n",
       "      <th>bmi</th>\n",
       "      <th>smoking_status</th>\n",
       "      <th>stroke</th>\n",
       "    </tr>\n",
       "  </thead>\n",
       "  <tbody>\n",
       "    <tr>\n",
       "      <th>0</th>\n",
       "      <td>9046</td>\n",
       "      <td>Male</td>\n",
       "      <td>67.0</td>\n",
       "      <td>0</td>\n",
       "      <td>1</td>\n",
       "      <td>Yes</td>\n",
       "      <td>Private</td>\n",
       "      <td>Urban</td>\n",
       "      <td>228.69</td>\n",
       "      <td>36.6</td>\n",
       "      <td>formerly smoked</td>\n",
       "      <td>1</td>\n",
       "    </tr>\n",
       "    <tr>\n",
       "      <th>1</th>\n",
       "      <td>51676</td>\n",
       "      <td>Female</td>\n",
       "      <td>61.0</td>\n",
       "      <td>0</td>\n",
       "      <td>0</td>\n",
       "      <td>Yes</td>\n",
       "      <td>Self-employed</td>\n",
       "      <td>Rural</td>\n",
       "      <td>202.21</td>\n",
       "      <td>NaN</td>\n",
       "      <td>never smoked</td>\n",
       "      <td>1</td>\n",
       "    </tr>\n",
       "    <tr>\n",
       "      <th>2</th>\n",
       "      <td>31112</td>\n",
       "      <td>Male</td>\n",
       "      <td>80.0</td>\n",
       "      <td>0</td>\n",
       "      <td>1</td>\n",
       "      <td>Yes</td>\n",
       "      <td>Private</td>\n",
       "      <td>Rural</td>\n",
       "      <td>105.92</td>\n",
       "      <td>32.5</td>\n",
       "      <td>never smoked</td>\n",
       "      <td>1</td>\n",
       "    </tr>\n",
       "    <tr>\n",
       "      <th>3</th>\n",
       "      <td>60182</td>\n",
       "      <td>Female</td>\n",
       "      <td>49.0</td>\n",
       "      <td>0</td>\n",
       "      <td>0</td>\n",
       "      <td>Yes</td>\n",
       "      <td>Private</td>\n",
       "      <td>Urban</td>\n",
       "      <td>171.23</td>\n",
       "      <td>34.4</td>\n",
       "      <td>smokes</td>\n",
       "      <td>1</td>\n",
       "    </tr>\n",
       "    <tr>\n",
       "      <th>4</th>\n",
       "      <td>1665</td>\n",
       "      <td>Female</td>\n",
       "      <td>79.0</td>\n",
       "      <td>1</td>\n",
       "      <td>0</td>\n",
       "      <td>Yes</td>\n",
       "      <td>Self-employed</td>\n",
       "      <td>Rural</td>\n",
       "      <td>174.12</td>\n",
       "      <td>24.0</td>\n",
       "      <td>never smoked</td>\n",
       "      <td>1</td>\n",
       "    </tr>\n",
       "  </tbody>\n",
       "</table>\n",
       "</div>"
      ],
      "text/plain": [
       "      id  gender   age  hypertension  heart_disease ever_married  \\\n",
       "0   9046    Male  67.0             0              1          Yes   \n",
       "1  51676  Female  61.0             0              0          Yes   \n",
       "2  31112    Male  80.0             0              1          Yes   \n",
       "3  60182  Female  49.0             0              0          Yes   \n",
       "4   1665  Female  79.0             1              0          Yes   \n",
       "\n",
       "       work_type Residence_type  avg_glucose_level   bmi   smoking_status  \\\n",
       "0        Private          Urban             228.69  36.6  formerly smoked   \n",
       "1  Self-employed          Rural             202.21   NaN     never smoked   \n",
       "2        Private          Rural             105.92  32.5     never smoked   \n",
       "3        Private          Urban             171.23  34.4           smokes   \n",
       "4  Self-employed          Rural             174.12  24.0     never smoked   \n",
       "\n",
       "   stroke  \n",
       "0       1  \n",
       "1       1  \n",
       "2       1  \n",
       "3       1  \n",
       "4       1  "
      ]
     },
     "execution_count": 3,
     "metadata": {},
     "output_type": "execute_result"
    }
   ],
   "source": [
    "data.head()"
   ]
  },
  {
   "cell_type": "markdown",
   "id": "d1fc789c",
   "metadata": {},
   "source": [
    "Preprocessing"
   ]
  },
  {
   "cell_type": "code",
   "execution_count": 4,
   "id": "ae2b6f3e",
   "metadata": {},
   "outputs": [
    {
     "data": {
      "text/plain": [
       "id                     0\n",
       "gender                 0\n",
       "age                    0\n",
       "hypertension           0\n",
       "heart_disease          0\n",
       "ever_married           0\n",
       "work_type              0\n",
       "Residence_type         0\n",
       "avg_glucose_level      0\n",
       "bmi                  201\n",
       "smoking_status         0\n",
       "stroke                 0\n",
       "dtype: int64"
      ]
     },
     "execution_count": 4,
     "metadata": {},
     "output_type": "execute_result"
    }
   ],
   "source": [
    "data.isnull().sum()"
   ]
  },
  {
   "cell_type": "code",
   "execution_count": 5,
   "id": "30046e2e",
   "metadata": {},
   "outputs": [],
   "source": [
    "data.fillna(data['bmi'].mean(), inplace=True)"
   ]
  },
  {
   "cell_type": "code",
   "execution_count": 6,
   "id": "bec041ec",
   "metadata": {},
   "outputs": [
    {
     "data": {
      "text/plain": [
       "id                   0\n",
       "gender               0\n",
       "age                  0\n",
       "hypertension         0\n",
       "heart_disease        0\n",
       "ever_married         0\n",
       "work_type            0\n",
       "Residence_type       0\n",
       "avg_glucose_level    0\n",
       "bmi                  0\n",
       "smoking_status       0\n",
       "stroke               0\n",
       "dtype: int64"
      ]
     },
     "execution_count": 6,
     "metadata": {},
     "output_type": "execute_result"
    }
   ],
   "source": [
    "data.isnull().sum()"
   ]
  },
  {
   "cell_type": "code",
   "execution_count": 7,
   "id": "6d3dd70d",
   "metadata": {},
   "outputs": [],
   "source": [
    "#id is unique value so id field is dropped from data\n",
    "data.drop(['id'], axis=1, inplace=True)"
   ]
  },
  {
   "cell_type": "code",
   "execution_count": 8,
   "id": "b52aa856",
   "metadata": {
    "scrolled": true
   },
   "outputs": [
    {
     "data": {
      "text/html": [
       "<div>\n",
       "<style scoped>\n",
       "    .dataframe tbody tr th:only-of-type {\n",
       "        vertical-align: middle;\n",
       "    }\n",
       "\n",
       "    .dataframe tbody tr th {\n",
       "        vertical-align: top;\n",
       "    }\n",
       "\n",
       "    .dataframe thead th {\n",
       "        text-align: right;\n",
       "    }\n",
       "</style>\n",
       "<table border=\"1\" class=\"dataframe\">\n",
       "  <thead>\n",
       "    <tr style=\"text-align: right;\">\n",
       "      <th></th>\n",
       "      <th>gender</th>\n",
       "      <th>age</th>\n",
       "      <th>hypertension</th>\n",
       "      <th>heart_disease</th>\n",
       "      <th>ever_married</th>\n",
       "      <th>work_type</th>\n",
       "      <th>Residence_type</th>\n",
       "      <th>avg_glucose_level</th>\n",
       "      <th>bmi</th>\n",
       "      <th>smoking_status</th>\n",
       "      <th>stroke</th>\n",
       "    </tr>\n",
       "  </thead>\n",
       "  <tbody>\n",
       "    <tr>\n",
       "      <th>0</th>\n",
       "      <td>Male</td>\n",
       "      <td>67.0</td>\n",
       "      <td>0</td>\n",
       "      <td>1</td>\n",
       "      <td>Yes</td>\n",
       "      <td>Private</td>\n",
       "      <td>Urban</td>\n",
       "      <td>228.69</td>\n",
       "      <td>36.600000</td>\n",
       "      <td>formerly smoked</td>\n",
       "      <td>1</td>\n",
       "    </tr>\n",
       "    <tr>\n",
       "      <th>1</th>\n",
       "      <td>Female</td>\n",
       "      <td>61.0</td>\n",
       "      <td>0</td>\n",
       "      <td>0</td>\n",
       "      <td>Yes</td>\n",
       "      <td>Self-employed</td>\n",
       "      <td>Rural</td>\n",
       "      <td>202.21</td>\n",
       "      <td>28.893237</td>\n",
       "      <td>never smoked</td>\n",
       "      <td>1</td>\n",
       "    </tr>\n",
       "    <tr>\n",
       "      <th>2</th>\n",
       "      <td>Male</td>\n",
       "      <td>80.0</td>\n",
       "      <td>0</td>\n",
       "      <td>1</td>\n",
       "      <td>Yes</td>\n",
       "      <td>Private</td>\n",
       "      <td>Rural</td>\n",
       "      <td>105.92</td>\n",
       "      <td>32.500000</td>\n",
       "      <td>never smoked</td>\n",
       "      <td>1</td>\n",
       "    </tr>\n",
       "    <tr>\n",
       "      <th>3</th>\n",
       "      <td>Female</td>\n",
       "      <td>49.0</td>\n",
       "      <td>0</td>\n",
       "      <td>0</td>\n",
       "      <td>Yes</td>\n",
       "      <td>Private</td>\n",
       "      <td>Urban</td>\n",
       "      <td>171.23</td>\n",
       "      <td>34.400000</td>\n",
       "      <td>smokes</td>\n",
       "      <td>1</td>\n",
       "    </tr>\n",
       "    <tr>\n",
       "      <th>4</th>\n",
       "      <td>Female</td>\n",
       "      <td>79.0</td>\n",
       "      <td>1</td>\n",
       "      <td>0</td>\n",
       "      <td>Yes</td>\n",
       "      <td>Self-employed</td>\n",
       "      <td>Rural</td>\n",
       "      <td>174.12</td>\n",
       "      <td>24.000000</td>\n",
       "      <td>never smoked</td>\n",
       "      <td>1</td>\n",
       "    </tr>\n",
       "  </tbody>\n",
       "</table>\n",
       "</div>"
      ],
      "text/plain": [
       "   gender   age  hypertension  heart_disease ever_married      work_type  \\\n",
       "0    Male  67.0             0              1          Yes        Private   \n",
       "1  Female  61.0             0              0          Yes  Self-employed   \n",
       "2    Male  80.0             0              1          Yes        Private   \n",
       "3  Female  49.0             0              0          Yes        Private   \n",
       "4  Female  79.0             1              0          Yes  Self-employed   \n",
       "\n",
       "  Residence_type  avg_glucose_level        bmi   smoking_status  stroke  \n",
       "0          Urban             228.69  36.600000  formerly smoked       1  \n",
       "1          Rural             202.21  28.893237     never smoked       1  \n",
       "2          Rural             105.92  32.500000     never smoked       1  \n",
       "3          Urban             171.23  34.400000           smokes       1  \n",
       "4          Rural             174.12  24.000000     never smoked       1  "
      ]
     },
     "execution_count": 8,
     "metadata": {},
     "output_type": "execute_result"
    }
   ],
   "source": [
    "data.head()"
   ]
  },
  {
   "cell_type": "code",
   "execution_count": 9,
   "id": "e651f892",
   "metadata": {},
   "outputs": [
    {
     "name": "stdout",
     "output_type": "stream",
     "text": [
      "<class 'pandas.core.frame.DataFrame'>\n",
      "RangeIndex: 5110 entries, 0 to 5109\n",
      "Data columns (total 11 columns):\n",
      " #   Column             Non-Null Count  Dtype  \n",
      "---  ------             --------------  -----  \n",
      " 0   gender             5110 non-null   object \n",
      " 1   age                5110 non-null   float64\n",
      " 2   hypertension       5110 non-null   int64  \n",
      " 3   heart_disease      5110 non-null   int64  \n",
      " 4   ever_married       5110 non-null   object \n",
      " 5   work_type          5110 non-null   object \n",
      " 6   Residence_type     5110 non-null   object \n",
      " 7   avg_glucose_level  5110 non-null   float64\n",
      " 8   bmi                5110 non-null   float64\n",
      " 9   smoking_status     5110 non-null   object \n",
      " 10  stroke             5110 non-null   int64  \n",
      "dtypes: float64(3), int64(3), object(5)\n",
      "memory usage: 439.3+ KB\n"
     ]
    }
   ],
   "source": [
    "data.info()"
   ]
  },
  {
   "cell_type": "code",
   "execution_count": 10,
   "id": "3c404282",
   "metadata": {},
   "outputs": [],
   "source": [
    "#Discretization\n",
    "labels=['Young','Adult','Middle-aged Adult','Old Adult']\n",
    "data['age']=pd.qcut(data['age'], q=4, labels=labels)"
   ]
  },
  {
   "cell_type": "code",
   "execution_count": 11,
   "id": "cd523aee",
   "metadata": {},
   "outputs": [
    {
     "data": {
      "text/html": [
       "<div>\n",
       "<style scoped>\n",
       "    .dataframe tbody tr th:only-of-type {\n",
       "        vertical-align: middle;\n",
       "    }\n",
       "\n",
       "    .dataframe tbody tr th {\n",
       "        vertical-align: top;\n",
       "    }\n",
       "\n",
       "    .dataframe thead th {\n",
       "        text-align: right;\n",
       "    }\n",
       "</style>\n",
       "<table border=\"1\" class=\"dataframe\">\n",
       "  <thead>\n",
       "    <tr style=\"text-align: right;\">\n",
       "      <th></th>\n",
       "      <th>gender</th>\n",
       "      <th>age</th>\n",
       "      <th>hypertension</th>\n",
       "      <th>heart_disease</th>\n",
       "      <th>ever_married</th>\n",
       "      <th>work_type</th>\n",
       "      <th>Residence_type</th>\n",
       "      <th>avg_glucose_level</th>\n",
       "      <th>bmi</th>\n",
       "      <th>smoking_status</th>\n",
       "      <th>stroke</th>\n",
       "    </tr>\n",
       "  </thead>\n",
       "  <tbody>\n",
       "    <tr>\n",
       "      <th>0</th>\n",
       "      <td>Male</td>\n",
       "      <td>Old Adult</td>\n",
       "      <td>0</td>\n",
       "      <td>1</td>\n",
       "      <td>Yes</td>\n",
       "      <td>Private</td>\n",
       "      <td>Urban</td>\n",
       "      <td>228.69</td>\n",
       "      <td>36.600000</td>\n",
       "      <td>formerly smoked</td>\n",
       "      <td>1</td>\n",
       "    </tr>\n",
       "    <tr>\n",
       "      <th>1</th>\n",
       "      <td>Female</td>\n",
       "      <td>Middle-aged Adult</td>\n",
       "      <td>0</td>\n",
       "      <td>0</td>\n",
       "      <td>Yes</td>\n",
       "      <td>Self-employed</td>\n",
       "      <td>Rural</td>\n",
       "      <td>202.21</td>\n",
       "      <td>28.893237</td>\n",
       "      <td>never smoked</td>\n",
       "      <td>1</td>\n",
       "    </tr>\n",
       "    <tr>\n",
       "      <th>2</th>\n",
       "      <td>Male</td>\n",
       "      <td>Old Adult</td>\n",
       "      <td>0</td>\n",
       "      <td>1</td>\n",
       "      <td>Yes</td>\n",
       "      <td>Private</td>\n",
       "      <td>Rural</td>\n",
       "      <td>105.92</td>\n",
       "      <td>32.500000</td>\n",
       "      <td>never smoked</td>\n",
       "      <td>1</td>\n",
       "    </tr>\n",
       "    <tr>\n",
       "      <th>3</th>\n",
       "      <td>Female</td>\n",
       "      <td>Middle-aged Adult</td>\n",
       "      <td>0</td>\n",
       "      <td>0</td>\n",
       "      <td>Yes</td>\n",
       "      <td>Private</td>\n",
       "      <td>Urban</td>\n",
       "      <td>171.23</td>\n",
       "      <td>34.400000</td>\n",
       "      <td>smokes</td>\n",
       "      <td>1</td>\n",
       "    </tr>\n",
       "    <tr>\n",
       "      <th>4</th>\n",
       "      <td>Female</td>\n",
       "      <td>Old Adult</td>\n",
       "      <td>1</td>\n",
       "      <td>0</td>\n",
       "      <td>Yes</td>\n",
       "      <td>Self-employed</td>\n",
       "      <td>Rural</td>\n",
       "      <td>174.12</td>\n",
       "      <td>24.000000</td>\n",
       "      <td>never smoked</td>\n",
       "      <td>1</td>\n",
       "    </tr>\n",
       "  </tbody>\n",
       "</table>\n",
       "</div>"
      ],
      "text/plain": [
       "   gender                age  hypertension  heart_disease ever_married  \\\n",
       "0    Male          Old Adult             0              1          Yes   \n",
       "1  Female  Middle-aged Adult             0              0          Yes   \n",
       "2    Male          Old Adult             0              1          Yes   \n",
       "3  Female  Middle-aged Adult             0              0          Yes   \n",
       "4  Female          Old Adult             1              0          Yes   \n",
       "\n",
       "       work_type Residence_type  avg_glucose_level        bmi  \\\n",
       "0        Private          Urban             228.69  36.600000   \n",
       "1  Self-employed          Rural             202.21  28.893237   \n",
       "2        Private          Rural             105.92  32.500000   \n",
       "3        Private          Urban             171.23  34.400000   \n",
       "4  Self-employed          Rural             174.12  24.000000   \n",
       "\n",
       "    smoking_status  stroke  \n",
       "0  formerly smoked       1  \n",
       "1     never smoked       1  \n",
       "2     never smoked       1  \n",
       "3           smokes       1  \n",
       "4     never smoked       1  "
      ]
     },
     "execution_count": 11,
     "metadata": {},
     "output_type": "execute_result"
    }
   ],
   "source": [
    "data.head()"
   ]
  },
  {
   "cell_type": "code",
   "execution_count": 12,
   "id": "fb74a267",
   "metadata": {},
   "outputs": [
    {
     "data": {
      "image/png": "[encoded data removed]",
      "text/plain": [
       "<Figure size 432x288 with 1 Axes>"
      ]
     },
     "metadata": {
      "needs_background": "light"
     },
     "output_type": "display_data"
    },
    {
     "data": {
      "image/png": "[encoded data removed]",
      "text/plain": [
       "<Figure size 432x288 with 1 Axes>"
      ]
     },
     "metadata": {
      "needs_background": "light"
     },
     "output_type": "display_data"
    },
    {
     "data": {
      "image/png": "[encoded data removed]",
      "text/plain": [
       "<Figure size 432x288 with 1 Axes>"
      ]
     },
     "metadata": {
      "needs_background": "light"
     },
     "output_type": "display_data"
    },
    {
     "data": {
      "image/png": "[encoded data removed]",
      "text/plain": [
       "<Figure size 432x288 with 1 Axes>"
      ]
     },
     "metadata": {
      "needs_background": "light"
     },
     "output_type": "display_data"
    },
    {
     "data": {
      "image/png": "[encoded data removed]",
      "text/plain": [
       "<Figure size 432x288 with 1 Axes>"
      ]
     },
     "metadata": {
      "needs_background": "light"
     },
     "output_type": "display_data"
    },
    {
     "data": {
      "image/png": "[encoded data removed]",
      "text/plain": [
       "<Figure size 432x288 with 1 Axes>"
      ]
     },
     "metadata": {
      "needs_background": "light"
     },
     "output_type": "display_data"
    },
    {
     "data": {
      "image/png": "[encoded data removed]",
      "text/plain": [
       "<Figure size 432x288 with 1 Axes>"
      ]
     },
     "metadata": {
      "needs_background": "light"
     },
     "output_type": "display_data"
    },
    {
     "data": {
      "image/png": "[encoded data removed]",
      "text/plain": [
       "<Figure size 432x288 with 1 Axes>"
      ]
     },
     "metadata": {
      "needs_background": "light"
     },
     "output_type": "display_data"
    },
    {
     "data": {
      "image/png": "[encoded data removed]",
      "text/plain": [
       "<Figure size 432x288 with 1 Axes>"
      ]
     },
     "metadata": {
      "needs_background": "light"
     },
     "output_type": "display_data"
    }
   ],
   "source": [
    "#Dataset is imbalanced\n",
    "labels=['gender','age', 'hypertension', 'heart_disease','ever_married', 'work_type', 'Residence_type', 'smoking_status','stroke']\n",
    "for i in labels:\n",
    "    data[i].value_counts().plot(kind=\"bar\")\n",
    "    plt.xlabel(i)\n",
    "    plt.ylabel(\"Count\")\n",
    "    plt.show()"
   ]
  },
  {
   "cell_type": "code",
   "execution_count": 13,
   "id": "4049efde",
   "metadata": {},
   "outputs": [
    {
     "data": {
      "image/png": "[encoded data removed]",
      "text/plain": [
       "<Figure size 432x288 with 1 Axes>"
      ]
     },
     "metadata": {
      "needs_background": "light"
     },
     "output_type": "display_data"
    },
    {
     "data": {
      "image/png": "[encoded data removed]",
      "text/plain": [
       "<Figure size 432x288 with 1 Axes>"
      ]
     },
     "metadata": {
      "needs_background": "light"
     },
     "output_type": "display_data"
    }
   ],
   "source": [
    "labels=['avg_glucose_level', 'bmi']\n",
    "for i in labels:\n",
    "    data[i].hist()\n",
    "    plt.xlabel(i)\n",
    "    plt.ylabel('Density')\n",
    "    plt.show()"
   ]
  },
  {
   "cell_type": "code",
   "execution_count": 14,
   "id": "03d16cb5",
   "metadata": {},
   "outputs": [
    {
     "name": "stdout",
     "output_type": "stream",
     "text": [
      "Female    2994\n",
      "Male      2115\n",
      "Other        1\n",
      "Name: gender, dtype: int64\n",
      "Adult                1325\n",
      "Young                1293\n",
      "Middle-aged Adult    1264\n",
      "Old Adult            1228\n",
      "Name: age, dtype: int64\n",
      "Yes    3353\n",
      "No     1757\n",
      "Name: ever_married, dtype: int64\n",
      "Private          2925\n",
      "Self-employed     819\n",
      "children          687\n",
      "Govt_job          657\n",
      "Never_worked       22\n",
      "Name: work_type, dtype: int64\n",
      "Urban    2596\n",
      "Rural    2514\n",
      "Name: Residence_type, dtype: int64\n",
      "never smoked       1892\n",
      "Unknown            1544\n",
      "formerly smoked     885\n",
      "smokes              789\n",
      "Name: smoking_status, dtype: int64\n"
     ]
    }
   ],
   "source": [
    "index=['gender','age', 'ever_married', 'work_type', 'Residence_type', 'smoking_status']\n",
    "for i in index:\n",
    "    print(data[i].value_counts())"
   ]
  },
  {
   "cell_type": "code",
   "execution_count": 15,
   "id": "12d6810c",
   "metadata": {},
   "outputs": [
    {
     "data": {
      "text/html": [
       "<div>\n",
       "<style scoped>\n",
       "    .dataframe tbody tr th:only-of-type {\n",
       "        vertical-align: middle;\n",
       "    }\n",
       "\n",
       "    .dataframe tbody tr th {\n",
       "        vertical-align: top;\n",
       "    }\n",
       "\n",
       "    .dataframe thead th {\n",
       "        text-align: right;\n",
       "    }\n",
       "</style>\n",
       "<table border=\"1\" class=\"dataframe\">\n",
       "  <thead>\n",
       "    <tr style=\"text-align: right;\">\n",
       "      <th></th>\n",
       "      <th>gender</th>\n",
       "      <th>age</th>\n",
       "      <th>hypertension</th>\n",
       "      <th>heart_disease</th>\n",
       "      <th>ever_married</th>\n",
       "      <th>work_type</th>\n",
       "      <th>Residence_type</th>\n",
       "      <th>avg_glucose_level</th>\n",
       "      <th>bmi</th>\n",
       "      <th>smoking_status</th>\n",
       "      <th>stroke</th>\n",
       "    </tr>\n",
       "  </thead>\n",
       "  <tbody>\n",
       "    <tr>\n",
       "      <th>3116</th>\n",
       "      <td>Other</td>\n",
       "      <td>Adult</td>\n",
       "      <td>0</td>\n",
       "      <td>0</td>\n",
       "      <td>No</td>\n",
       "      <td>Private</td>\n",
       "      <td>Rural</td>\n",
       "      <td>143.33</td>\n",
       "      <td>22.4</td>\n",
       "      <td>formerly smoked</td>\n",
       "      <td>0</td>\n",
       "    </tr>\n",
       "  </tbody>\n",
       "</table>\n",
       "</div>"
      ],
      "text/plain": [
       "     gender    age  hypertension  heart_disease ever_married work_type  \\\n",
       "3116  Other  Adult             0              0           No   Private   \n",
       "\n",
       "     Residence_type  avg_glucose_level   bmi   smoking_status  stroke  \n",
       "3116          Rural             143.33  22.4  formerly smoked       0  "
      ]
     },
     "execution_count": 15,
     "metadata": {},
     "output_type": "execute_result"
    }
   ],
   "source": [
    "data[data['gender']=='Other']"
   ]
  },
  {
   "cell_type": "code",
   "execution_count": 16,
   "id": "468421c2",
   "metadata": {},
   "outputs": [],
   "source": [
    "data.drop([3116], axis=0, inplace=True)"
   ]
  },
  {
   "cell_type": "code",
   "execution_count": 17,
   "id": "2eacad50",
   "metadata": {},
   "outputs": [
    {
     "data": {
      "text/plain": [
       "Female    2994\n",
       "Male      2115\n",
       "Name: gender, dtype: int64"
      ]
     },
     "execution_count": 17,
     "metadata": {},
     "output_type": "execute_result"
    }
   ],
   "source": [
    "data['gender'].value_counts()"
   ]
  },
  {
   "cell_type": "code",
   "execution_count": 18,
   "id": "40c96d24",
   "metadata": {},
   "outputs": [],
   "source": [
    "#Label Encoder and One Hot Encoder\n",
    "label_encoder=LabelEncoder()\n",
    "index=['gender', 'ever_married', 'Residence_type']\n",
    "for i in index:\n",
    "    data[i]=label_encoder.fit_transform(data[i])"
   ]
  },
  {
   "cell_type": "code",
   "execution_count": 19,
   "id": "755493a7",
   "metadata": {},
   "outputs": [],
   "source": [
    "data= pd.get_dummies(data ,prefix = 'age' ,columns = ['age'],drop_first = True)\n",
    "data= pd.get_dummies(data ,prefix = 'work_type' ,columns = ['work_type'],drop_first = True)\n",
    "data= pd.get_dummies(data ,prefix = 'smoking_status' ,columns = ['smoking_status'],drop_first = True)"
   ]
  },
  {
   "cell_type": "code",
   "execution_count": 20,
   "id": "ff94aec0",
   "metadata": {},
   "outputs": [
    {
     "data": {
      "text/html": [
       "<div>\n",
       "<style scoped>\n",
       "    .dataframe tbody tr th:only-of-type {\n",
       "        vertical-align: middle;\n",
       "    }\n",
       "\n",
       "    .dataframe tbody tr th {\n",
       "        vertical-align: top;\n",
       "    }\n",
       "\n",
       "    .dataframe thead th {\n",
       "        text-align: right;\n",
       "    }\n",
       "</style>\n",
       "<table border=\"1\" class=\"dataframe\">\n",
       "  <thead>\n",
       "    <tr style=\"text-align: right;\">\n",
       "      <th></th>\n",
       "      <th>gender</th>\n",
       "      <th>hypertension</th>\n",
       "      <th>heart_disease</th>\n",
       "      <th>ever_married</th>\n",
       "      <th>Residence_type</th>\n",
       "      <th>avg_glucose_level</th>\n",
       "      <th>bmi</th>\n",
       "      <th>stroke</th>\n",
       "      <th>age_Adult</th>\n",
       "      <th>age_Middle-aged Adult</th>\n",
       "      <th>age_Old Adult</th>\n",
       "      <th>work_type_Never_worked</th>\n",
       "      <th>work_type_Private</th>\n",
       "      <th>work_type_Self-employed</th>\n",
       "      <th>work_type_children</th>\n",
       "      <th>smoking_status_formerly smoked</th>\n",
       "      <th>smoking_status_never smoked</th>\n",
       "      <th>smoking_status_smokes</th>\n",
       "    </tr>\n",
       "  </thead>\n",
       "  <tbody>\n",
       "    <tr>\n",
       "      <th>0</th>\n",
       "      <td>1</td>\n",
       "      <td>0</td>\n",
       "      <td>1</td>\n",
       "      <td>1</td>\n",
       "      <td>1</td>\n",
       "      <td>228.69</td>\n",
       "      <td>36.600000</td>\n",
       "      <td>1</td>\n",
       "      <td>0</td>\n",
       "      <td>0</td>\n",
       "      <td>1</td>\n",
       "      <td>0</td>\n",
       "      <td>1</td>\n",
       "      <td>0</td>\n",
       "      <td>0</td>\n",
       "      <td>1</td>\n",
       "      <td>0</td>\n",
       "      <td>0</td>\n",
       "    </tr>\n",
       "    <tr>\n",
       "      <th>1</th>\n",
       "      <td>0</td>\n",
       "      <td>0</td>\n",
       "      <td>0</td>\n",
       "      <td>1</td>\n",
       "      <td>0</td>\n",
       "      <td>202.21</td>\n",
       "      <td>28.893237</td>\n",
       "      <td>1</td>\n",
       "      <td>0</td>\n",
       "      <td>1</td>\n",
       "      <td>0</td>\n",
       "      <td>0</td>\n",
       "      <td>0</td>\n",
       "      <td>1</td>\n",
       "      <td>0</td>\n",
       "      <td>0</td>\n",
       "      <td>1</td>\n",
       "      <td>0</td>\n",
       "    </tr>\n",
       "    <tr>\n",
       "      <th>2</th>\n",
       "      <td>1</td>\n",
       "      <td>0</td>\n",
       "      <td>1</td>\n",
       "      <td>1</td>\n",
       "      <td>0</td>\n",
       "      <td>105.92</td>\n",
       "      <td>32.500000</td>\n",
       "      <td>1</td>\n",
       "      <td>0</td>\n",
       "      <td>0</td>\n",
       "      <td>1</td>\n",
       "      <td>0</td>\n",
       "      <td>1</td>\n",
       "      <td>0</td>\n",
       "      <td>0</td>\n",
       "      <td>0</td>\n",
       "      <td>1</td>\n",
       "      <td>0</td>\n",
       "    </tr>\n",
       "    <tr>\n",
       "      <th>3</th>\n",
       "      <td>0</td>\n",
       "      <td>0</td>\n",
       "      <td>0</td>\n",
       "      <td>1</td>\n",
       "      <td>1</td>\n",
       "      <td>171.23</td>\n",
       "      <td>34.400000</td>\n",
       "      <td>1</td>\n",
       "      <td>0</td>\n",
       "      <td>1</td>\n",
       "      <td>0</td>\n",
       "      <td>0</td>\n",
       "      <td>1</td>\n",
       "      <td>0</td>\n",
       "      <td>0</td>\n",
       "      <td>0</td>\n",
       "      <td>0</td>\n",
       "      <td>1</td>\n",
       "    </tr>\n",
       "    <tr>\n",
       "      <th>4</th>\n",
       "      <td>0</td>\n",
       "      <td>1</td>\n",
       "      <td>0</td>\n",
       "      <td>1</td>\n",
       "      <td>0</td>\n",
       "      <td>174.12</td>\n",
       "      <td>24.000000</td>\n",
       "      <td>1</td>\n",
       "      <td>0</td>\n",
       "      <td>0</td>\n",
       "      <td>1</td>\n",
       "      <td>0</td>\n",
       "      <td>0</td>\n",
       "      <td>1</td>\n",
       "      <td>0</td>\n",
       "      <td>0</td>\n",
       "      <td>1</td>\n",
       "      <td>0</td>\n",
       "    </tr>\n",
       "  </tbody>\n",
       "</table>\n",
       "</div>"
      ],
      "text/plain": [
       "   gender  hypertension  heart_disease  ever_married  Residence_type  \\\n",
       "0       1             0              1             1               1   \n",
       "1       0             0              0             1               0   \n",
       "2       1             0              1             1               0   \n",
       "3       0             0              0             1               1   \n",
       "4       0             1              0             1               0   \n",
       "\n",
       "   avg_glucose_level        bmi  stroke  age_Adult  age_Middle-aged Adult  \\\n",
       "0             228.69  36.600000       1          0                      0   \n",
       "1             202.21  28.893237       1          0                      1   \n",
       "2             105.92  32.500000       1          0                      0   \n",
       "3             171.23  34.400000       1          0                      1   \n",
       "4             174.12  24.000000       1          0                      0   \n",
       "\n",
       "   age_Old Adult  work_type_Never_worked  work_type_Private  \\\n",
       "0              1                       0                  1   \n",
       "1              0                       0                  0   \n",
       "2              1                       0                  1   \n",
       "3              0                       0                  1   \n",
       "4              1                       0                  0   \n",
       "\n",
       "   work_type_Self-employed  work_type_children  \\\n",
       "0                        0                   0   \n",
       "1                        1                   0   \n",
       "2                        0                   0   \n",
       "3                        0                   0   \n",
       "4                        1                   0   \n",
       "\n",
       "   smoking_status_formerly smoked  smoking_status_never smoked  \\\n",
       "0                               1                            0   \n",
       "1                               0                            1   \n",
       "2                               0                            1   \n",
       "3                               0                            0   \n",
       "4                               0                            1   \n",
       "\n",
       "   smoking_status_smokes  \n",
       "0                      0  \n",
       "1                      0  \n",
       "2                      0  \n",
       "3                      1  \n",
       "4                      0  "
      ]
     },
     "execution_count": 20,
     "metadata": {},
     "output_type": "execute_result"
    }
   ],
   "source": [
    "data.head()"
   ]
  },
  {
   "cell_type": "code",
   "execution_count": 21,
   "id": "055e86dd",
   "metadata": {},
   "outputs": [],
   "source": [
    "df=data.copy()"
   ]
  },
  {
   "cell_type": "code",
   "execution_count": 22,
   "id": "8337eb77",
   "metadata": {},
   "outputs": [
    {
     "data": {
      "text/plain": [
       "<AxesSubplot:>"
      ]
     },
     "execution_count": 22,
     "metadata": {},
     "output_type": "execute_result"
    },
    {
     "data": {
      "image/png": "[encoded data removed]",
      "text/plain": [
       "<Figure size 1008x576 with 2 Axes>"
      ]
     },
     "metadata": {
      "needs_background": "light"
     },
     "output_type": "display_data"
    }
   ],
   "source": [
    "#Correlation Heat Map\n",
    "plt.figure(figsize=(14,8))\n",
    "sns.heatmap(data.corr(), annot=True)"
   ]
  },
  {
   "cell_type": "code",
   "execution_count": 23,
   "id": "9cffaf1e",
   "metadata": {},
   "outputs": [],
   "source": [
    "# When the correlation between the two fields exceeds 0.50, one is dropped from the data set.\n",
    "data.drop(['work_type_children'], axis=1, inplace=True)\n",
    "data.drop(['work_type_Self-employed'], axis=1, inplace=True)"
   ]
  },
  {
   "cell_type": "code",
   "execution_count": 24,
   "id": "7e19e72a",
   "metadata": {},
   "outputs": [],
   "source": [
    "X=data.drop(data[['stroke']], axis=1)\n",
    "Y=data['stroke']"
   ]
  },
  {
   "cell_type": "code",
   "execution_count": 25,
   "id": "c8de211f",
   "metadata": {},
   "outputs": [],
   "source": [
    "# Standard scaler\n",
    "sc = pr.StandardScaler()\n",
    "X=sc.fit_transform(X)"
   ]
  },
  {
   "cell_type": "markdown",
   "id": "82af8b8c",
   "metadata": {},
   "source": [
    "CLASSIFICATION"
   ]
  },
  {
   "cell_type": "code",
   "execution_count": 26,
   "id": "a9307cb4",
   "metadata": {},
   "outputs": [],
   "source": [
    "x_train, x_test, y_train, y_test=train_test_split(X,Y,test_size=0.25,random_state=0)"
   ]
  },
  {
   "cell_type": "code",
   "execution_count": 27,
   "id": "2e152eb9",
   "metadata": {},
   "outputs": [
    {
     "name": "stdout",
     "output_type": "stream",
     "text": [
      "Requirement already satisfied: Tensorflow in c:\\users\\lenovo\\anaconda3\\lib\\site-packages (2.10.0)\n",
      "Requirement already satisfied: keras-preprocessing>=1.1.1 in c:\\users\\lenovo\\anaconda3\\lib\\site-packages (from Tensorflow) (1.1.2)\n",
      "Requirement already satisfied: keras<2.11,>=2.10.0 in c:\\users\\lenovo\\anaconda3\\lib\\site-packages (from Tensorflow) (2.10.0)\n",
      "Requirement already satisfied: grpcio<2.0,>=1.24.3 in c:\\users\\lenovo\\anaconda3\\lib\\site-packages (from Tensorflow) (1.42.0)\n",
      "Requirement already satisfied: tensorflow-estimator<2.11,>=2.10.0 in c:\\users\\lenovo\\anaconda3\\lib\\site-packages (from Tensorflow) (2.10.0)\n",
      "Requirement already satisfied: setuptools in c:\\users\\lenovo\\anaconda3\\lib\\site-packages (from Tensorflow) (61.2.0)\n",
      "Requirement already satisfied: absl-py>=1.0.0 in c:\\users\\lenovo\\anaconda3\\lib\\site-packages (from Tensorflow) (1.3.0)\n",
      "Requirement already satisfied: libclang>=13.0.0 in c:\\users\\lenovo\\anaconda3\\lib\\site-packages (from Tensorflow) (14.0.6)\n",
      "Requirement already satisfied: h5py>=2.9.0 in c:\\users\\lenovo\\anaconda3\\lib\\site-packages (from Tensorflow) (3.6.0)\n",
      "Requirement already satisfied: tensorboard<2.11,>=2.10 in c:\\users\\lenovo\\anaconda3\\lib\\site-packages (from Tensorflow) (2.10.1)\n",
      "Requirement already satisfied: opt-einsum>=2.3.2 in c:\\users\\lenovo\\anaconda3\\lib\\site-packages (from Tensorflow) (3.3.0)\n",
      "Requirement already satisfied: tensorflow-io-gcs-filesystem>=0.23.1 in c:\\users\\lenovo\\anaconda3\\lib\\site-packages (from Tensorflow) (0.27.0)\n",
      "Requirement already satisfied: wrapt>=1.11.0 in c:\\users\\lenovo\\anaconda3\\lib\\site-packages (from Tensorflow) (1.12.1)\n",
      "Requirement already satisfied: flatbuffers>=2.0 in c:\\users\\lenovo\\anaconda3\\lib\\site-packages (from Tensorflow) (22.10.26)\n",
      "Requirement already satisfied: numpy>=1.20 in c:\\users\\lenovo\\anaconda3\\lib\\site-packages (from Tensorflow) (1.21.5)\n",
      "Requirement already satisfied: google-pasta>=0.1.1 in c:\\users\\lenovo\\anaconda3\\lib\\site-packages (from Tensorflow) (0.2.0)\n",
      "Requirement already satisfied: gast<=0.4.0,>=0.2.1 in c:\\users\\lenovo\\anaconda3\\lib\\site-packages (from Tensorflow) (0.4.0)\n",
      "Requirement already satisfied: termcolor>=1.1.0 in c:\\users\\lenovo\\anaconda3\\lib\\site-packages (from Tensorflow) (2.0.1)\n",
      "Requirement already satisfied: packaging in c:\\users\\lenovo\\anaconda3\\lib\\site-packages (from Tensorflow) (21.3)\n",
      "Requirement already satisfied: protobuf<3.20,>=3.9.2 in c:\\users\\lenovo\\anaconda3\\lib\\site-packages (from Tensorflow) (3.19.1)\n",
      "Requirement already satisfied: six>=1.12.0 in c:\\users\\lenovo\\anaconda3\\lib\\site-packages (from Tensorflow) (1.16.0)\n",
      "Requirement already satisfied: astunparse>=1.6.0 in c:\\users\\lenovo\\anaconda3\\lib\\site-packages (from Tensorflow) (1.6.3)\n",
      "Requirement already satisfied: typing-extensions>=3.6.6 in c:\\users\\lenovo\\anaconda3\\lib\\site-packages (from Tensorflow) (4.1.1)\n",
      "Requirement already satisfied: wheel<1.0,>=0.23.0 in c:\\users\\lenovo\\anaconda3\\lib\\site-packages (from astunparse>=1.6.0->Tensorflow) (0.37.1)\n",
      "Requirement already satisfied: tensorboard-data-server<0.7.0,>=0.6.0 in c:\\users\\lenovo\\anaconda3\\lib\\site-packages (from tensorboard<2.11,>=2.10->Tensorflow) (0.6.1)\n",
      "Requirement already satisfied: tensorboard-plugin-wit>=1.6.0 in c:\\users\\lenovo\\anaconda3\\lib\\site-packages (from tensorboard<2.11,>=2.10->Tensorflow) (1.8.1)\n",
      "Requirement already satisfied: markdown>=2.6.8 in c:\\users\\lenovo\\anaconda3\\lib\\site-packages (from tensorboard<2.11,>=2.10->Tensorflow) (3.3.4)\n",
      "Requirement already satisfied: google-auth<3,>=1.6.3 in c:\\users\\lenovo\\anaconda3\\lib\\site-packages (from tensorboard<2.11,>=2.10->Tensorflow) (1.33.0)\n",
      "Requirement already satisfied: requests<3,>=2.21.0 in c:\\users\\lenovo\\anaconda3\\lib\\site-packages (from tensorboard<2.11,>=2.10->Tensorflow) (2.27.1)\n",
      "Requirement already satisfied: google-auth-oauthlib<0.5,>=0.4.1 in c:\\users\\lenovo\\anaconda3\\lib\\site-packages (from tensorboard<2.11,>=2.10->Tensorflow) (0.4.6)\n",
      "Requirement already satisfied: werkzeug>=1.0.1 in c:\\users\\lenovo\\anaconda3\\lib\\site-packages (from tensorboard<2.11,>=2.10->Tensorflow) (2.0.3)\n",
      "Requirement already satisfied: pyparsing!=3.0.5,>=2.0.2 in c:\\users\\lenovo\\anaconda3\\lib\\site-packages (from packaging->Tensorflow) (3.0.4)\n",
      "Requirement already satisfied: rsa<5,>=3.1.4 in c:\\users\\lenovo\\anaconda3\\lib\\site-packages (from google-auth<3,>=1.6.3->tensorboard<2.11,>=2.10->Tensorflow) (4.7.2)\n",
      "Requirement already satisfied: cachetools<5.0,>=2.0.0 in c:\\users\\lenovo\\anaconda3\\lib\\site-packages (from google-auth<3,>=1.6.3->tensorboard<2.11,>=2.10->Tensorflow) (4.2.2)\n",
      "Requirement already satisfied: pyasn1-modules>=0.2.1 in c:\\users\\lenovo\\anaconda3\\lib\\site-packages (from google-auth<3,>=1.6.3->tensorboard<2.11,>=2.10->Tensorflow) (0.2.8)\n",
      "Requirement already satisfied: requests-oauthlib>=0.7.0 in c:\\users\\lenovo\\anaconda3\\lib\\site-packages (from google-auth-oauthlib<0.5,>=0.4.1->tensorboard<2.11,>=2.10->Tensorflow) (1.3.1)\n",
      "Requirement already satisfied: idna<4,>=2.5 in c:\\users\\lenovo\\anaconda3\\lib\\site-packages (from requests<3,>=2.21.0->tensorboard<2.11,>=2.10->Tensorflow) (3.3)\n",
      "Requirement already satisfied: certifi>=2017.4.17 in c:\\users\\lenovo\\anaconda3\\lib\\site-packages (from requests<3,>=2.21.0->tensorboard<2.11,>=2.10->Tensorflow) (2021.10.8)\n",
      "Requirement already satisfied: charset-normalizer~=2.0.0 in c:\\users\\lenovo\\anaconda3\\lib\\site-packages (from requests<3,>=2.21.0->tensorboard<2.11,>=2.10->Tensorflow) (2.0.4)\n",
      "Requirement already satisfied: urllib3<1.27,>=1.21.1 in c:\\users\\lenovo\\anaconda3\\lib\\site-packages (from requests<3,>=2.21.0->tensorboard<2.11,>=2.10->Tensorflow) (1.26.9)\n",
      "Requirement already satisfied: pyasn1<0.5.0,>=0.4.6 in c:\\users\\lenovo\\anaconda3\\lib\\site-packages (from pyasn1-modules>=0.2.1->google-auth<3,>=1.6.3->tensorboard<2.11,>=2.10->Tensorflow) (0.4.8)\n",
      "Requirement already satisfied: oauthlib>=3.0.0 in c:\\users\\lenovo\\anaconda3\\lib\\site-packages (from requests-oauthlib>=0.7.0->google-auth-oauthlib<0.5,>=0.4.1->tensorboard<2.11,>=2.10->Tensorflow) (3.2.2)\n"
     ]
    },
    {
     "name": "stderr",
     "output_type": "stream",
     "text": [
      "\n",
      "[notice] A new release of pip available: 22.3 -> 22.3.1\n",
      "[notice] To update, run: python.exe -m pip install --upgrade pip\n"
     ]
    },
    {
     "name": "stdout",
     "output_type": "stream",
     "text": [
      "Requirement already satisfied: imbalanced-learn in c:\\users\\lenovo\\anaconda3\\lib\\site-packages (0.9.1)\n",
      "Requirement already satisfied: scikit-learn>=1.1.0 in c:\\users\\lenovo\\anaconda3\\lib\\site-packages (from imbalanced-learn) (1.1.3)\n",
      "Requirement already satisfied: joblib>=1.0.0 in c:\\users\\lenovo\\anaconda3\\lib\\site-packages (from imbalanced-learn) (1.1.0)\n",
      "Requirement already satisfied: threadpoolctl>=2.0.0 in c:\\users\\lenovo\\anaconda3\\lib\\site-packages (from imbalanced-learn) (2.2.0)\n",
      "Requirement already satisfied: numpy>=1.17.3 in c:\\users\\lenovo\\anaconda3\\lib\\site-packages (from imbalanced-learn) (1.21.5)\n",
      "Requirement already satisfied: scipy>=1.3.2 in c:\\users\\lenovo\\anaconda3\\lib\\site-packages (from imbalanced-learn) (1.7.3)\n"
     ]
    },
    {
     "name": "stderr",
     "output_type": "stream",
     "text": [
      "\n",
      "[notice] A new release of pip available: 22.3 -> 22.3.1\n",
      "[notice] To update, run: python.exe -m pip install --upgrade pip\n"
     ]
    }
   ],
   "source": [
    "!pip install Tensorflow\n",
    "!pip install imbalanced-learn"
   ]
  },
  {
   "cell_type": "code",
   "execution_count": 28,
   "id": "2365148b",
   "metadata": {},
   "outputs": [],
   "source": [
    "from imblearn.over_sampling import SMOTE"
   ]
  },
  {
   "cell_type": "code",
   "execution_count": 29,
   "id": "9464fcc7",
   "metadata": {},
   "outputs": [
    {
     "name": "stdout",
     "output_type": "stream",
     "text": [
      "Before OverSampling, counts of label '1': 184\n",
      "Before OverSampling, counts of label '0': 3647\n"
     ]
    }
   ],
   "source": [
    "print(\"Before OverSampling, counts of label '1':\",sum(y_train==1))\n",
    "print(\"Before OverSampling, counts of label '0':\",sum(y_train==0))"
   ]
  },
  {
   "cell_type": "code",
   "execution_count": 30,
   "id": "41849eea",
   "metadata": {},
   "outputs": [],
   "source": [
    "sm = SMOTE(random_state=2)\n",
    "x_train_res, y_train_res = sm.fit_resample(x_train, y_train.ravel())"
   ]
  },
  {
   "cell_type": "code",
   "execution_count": 31,
   "id": "e1b103e0",
   "metadata": {},
   "outputs": [
    {
     "name": "stdout",
     "output_type": "stream",
     "text": [
      "After OverSampling, counts of label '1': 3647\n",
      "After OverSampling, counts of label '0': 3647\n"
     ]
    }
   ],
   "source": [
    "print(\"After OverSampling, counts of label '1':\",sum(y_train_res==1))\n",
    "print(\"After OverSampling, counts of label '0':\",sum(y_train_res==0))"
   ]
  },
  {
   "cell_type": "markdown",
   "id": "3a6285dc",
   "metadata": {},
   "source": [
    "Logistic Regression"
   ]
  },
  {
   "cell_type": "code",
   "execution_count": 32,
   "id": "e761af10",
   "metadata": {},
   "outputs": [],
   "source": [
    "logr=LogisticRegression(random_state=0)\n",
    "logr.fit(x_train_res,y_train_res)\n",
    "y_pred_logr=logr.predict(x_test)"
   ]
  },
  {
   "cell_type": "code",
   "execution_count": 33,
   "id": "2b3349fd",
   "metadata": {},
   "outputs": [
    {
     "name": "stdout",
     "output_type": "stream",
     "text": [
      "[[866 347]\n",
      " [ 18  47]]\n"
     ]
    }
   ],
   "source": [
    "cm_logr=confusion_matrix(y_test,y_pred_logr)\n",
    "print(cm_logr)"
   ]
  },
  {
   "cell_type": "code",
   "execution_count": 34,
   "id": "2e6ab0cd",
   "metadata": {},
   "outputs": [
    {
     "name": "stdout",
     "output_type": "stream",
     "text": [
      "Classification Report\n",
      " :               precision    recall  f1-score   support\n",
      "\n",
      "           0       0.98      0.71      0.83      1213\n",
      "           1       0.12      0.72      0.20        65\n",
      "\n",
      "    accuracy                           0.71      1278\n",
      "   macro avg       0.55      0.72      0.52      1278\n",
      "weighted avg       0.94      0.71      0.79      1278\n",
      "\n"
     ]
    }
   ],
   "source": [
    "print('Classification Report\\n :', metrics.classification_report(y_test,y_pred_logr))"
   ]
  },
  {
   "cell_type": "code",
   "execution_count": 35,
   "id": "508e184b",
   "metadata": {},
   "outputs": [
    {
     "name": "stdout",
     "output_type": "stream",
     "text": [
      "[0.76079507 0.77450308 0.79232351 0.7834133  0.77160494]\n",
      "0.7765279787441084\n"
     ]
    }
   ],
   "source": [
    "vldt1=ms.cross_val_score(estimator=logr,X=x_train_res,y=y_train_res,cv=5)\n",
    "print(vldt1)\n",
    "print(vldt1.mean())"
   ]
  },
  {
   "cell_type": "markdown",
   "id": "76d7d4cf",
   "metadata": {},
   "source": [
    "KNeighbors"
   ]
  },
  {
   "cell_type": "code",
   "execution_count": 36,
   "id": "e5a27665",
   "metadata": {},
   "outputs": [],
   "source": [
    "knn=KNeighborsClassifier()\n",
    "knn.fit(x_train_res,y_train_res)\n",
    "y_pred_knn=knn.predict(x_test)"
   ]
  },
  {
   "cell_type": "code",
   "execution_count": 37,
   "id": "9321204f",
   "metadata": {},
   "outputs": [
    {
     "name": "stdout",
     "output_type": "stream",
     "text": [
      "[[1040  173]\n",
      " [  44   21]]\n"
     ]
    }
   ],
   "source": [
    "cm_knn=confusion_matrix(y_test,y_pred_knn)\n",
    "print(cm_knn)"
   ]
  },
  {
   "cell_type": "code",
   "execution_count": 38,
   "id": "b5cfe417",
   "metadata": {},
   "outputs": [
    {
     "name": "stdout",
     "output_type": "stream",
     "text": [
      "Classification Report\n",
      " :               precision    recall  f1-score   support\n",
      "\n",
      "           0       0.96      0.86      0.91      1213\n",
      "           1       0.11      0.32      0.16        65\n",
      "\n",
      "    accuracy                           0.83      1278\n",
      "   macro avg       0.53      0.59      0.53      1278\n",
      "weighted avg       0.92      0.83      0.87      1278\n",
      "\n"
     ]
    }
   ],
   "source": [
    "print('Classification Report\\n :', metrics.classification_report(y_test,y_pred_knn))"
   ]
  },
  {
   "cell_type": "code",
   "execution_count": 39,
   "id": "10caa756",
   "metadata": {},
   "outputs": [
    {
     "name": "stdout",
     "output_type": "stream",
     "text": [
      "[0.90267306 0.91021247 0.91226868 0.91226868 0.90877915]\n",
      "0.909240408382388\n"
     ]
    }
   ],
   "source": [
    "vldt2=ms.cross_val_score(estimator=knn,X=x_train_res,y=y_train_res,cv=5)\n",
    "print(vldt2)\n",
    "print(vldt2.mean())"
   ]
  },
  {
   "cell_type": "markdown",
   "id": "d9aae9b6",
   "metadata": {},
   "source": [
    "GaussianNB"
   ]
  },
  {
   "cell_type": "code",
   "execution_count": 40,
   "id": "4082e77d",
   "metadata": {},
   "outputs": [],
   "source": [
    "gnb=GaussianNB()\n",
    "gnb.fit(x_train_res,y_train_res)\n",
    "y_pred_gnb=gnb.predict(x_test)"
   ]
  },
  {
   "cell_type": "code",
   "execution_count": 41,
   "id": "a2fdbad5",
   "metadata": {},
   "outputs": [
    {
     "name": "stdout",
     "output_type": "stream",
     "text": [
      "[[341 872]\n",
      " [  3  62]]\n"
     ]
    }
   ],
   "source": [
    "cm_gnb=confusion_matrix(y_test,y_pred_gnb)\n",
    "print(cm_gnb)"
   ]
  },
  {
   "cell_type": "code",
   "execution_count": 42,
   "id": "49d8b0bc",
   "metadata": {},
   "outputs": [
    {
     "name": "stdout",
     "output_type": "stream",
     "text": [
      "Classification Report\n",
      " :               precision    recall  f1-score   support\n",
      "\n",
      "           0       0.99      0.28      0.44      1213\n",
      "           1       0.07      0.95      0.12        65\n",
      "\n",
      "    accuracy                           0.32      1278\n",
      "   macro avg       0.53      0.62      0.28      1278\n",
      "weighted avg       0.94      0.32      0.42      1278\n",
      "\n"
     ]
    }
   ],
   "source": [
    "print('Classification Report\\n :', metrics.classification_report(y_test,y_pred_gnb))"
   ]
  },
  {
   "cell_type": "code",
   "execution_count": 43,
   "id": "5b6ce89f",
   "metadata": {},
   "outputs": [
    {
     "name": "stdout",
     "output_type": "stream",
     "text": [
      "[0.61411926 0.62851268 0.64838931 0.63468129 0.61591221]\n",
      "0.6283229488976704\n"
     ]
    }
   ],
   "source": [
    "vldt3=ms.cross_val_score(estimator=gnb,X=x_train_res,y=y_train_res,cv=5)\n",
    "print(vldt3)\n",
    "print(vldt3.mean())"
   ]
  },
  {
   "cell_type": "markdown",
   "id": "bd24ce8f",
   "metadata": {},
   "source": [
    "BernoulliNB"
   ]
  },
  {
   "cell_type": "code",
   "execution_count": 44,
   "id": "937b821b",
   "metadata": {},
   "outputs": [],
   "source": [
    "bnb=BernoulliNB()\n",
    "bnb.fit(x_train_res,y_train_res)\n",
    "y_pred_bnb=bnb.predict(x_test)"
   ]
  },
  {
   "cell_type": "code",
   "execution_count": 45,
   "id": "0ba1adae",
   "metadata": {},
   "outputs": [
    {
     "name": "stdout",
     "output_type": "stream",
     "text": [
      "[[919 294]\n",
      " [ 18  47]]\n"
     ]
    }
   ],
   "source": [
    "cm_bnb=confusion_matrix(y_test,y_pred_bnb)\n",
    "print(cm_bnb)"
   ]
  },
  {
   "cell_type": "code",
   "execution_count": 46,
   "id": "9b5f00fb",
   "metadata": {},
   "outputs": [
    {
     "name": "stdout",
     "output_type": "stream",
     "text": [
      "Classification Report\n",
      " :               precision    recall  f1-score   support\n",
      "\n",
      "           0       0.98      0.76      0.85      1213\n",
      "           1       0.14      0.72      0.23        65\n",
      "\n",
      "    accuracy                           0.76      1278\n",
      "   macro avg       0.56      0.74      0.54      1278\n",
      "weighted avg       0.94      0.76      0.82      1278\n",
      "\n"
     ]
    }
   ],
   "source": [
    "print('Classification Report\\n :', metrics.classification_report(y_test,y_pred_bnb))"
   ]
  },
  {
   "cell_type": "code",
   "execution_count": 47,
   "id": "fcddd54f",
   "metadata": {},
   "outputs": [
    {
     "name": "stdout",
     "output_type": "stream",
     "text": [
      "[0.75325565 0.74914325 0.76627827 0.77244688 0.75308642]\n",
      "0.7588420954653534\n"
     ]
    }
   ],
   "source": [
    "vldt4=ms.cross_val_score(estimator=bnb,X=x_train_res,y=y_train_res,cv=5)\n",
    "print(vldt4)\n",
    "print(vldt4.mean())"
   ]
  },
  {
   "cell_type": "markdown",
   "id": "dd107d21",
   "metadata": {},
   "source": [
    "DecisionTree"
   ]
  },
  {
   "cell_type": "code",
   "execution_count": 48,
   "id": "8c291b70",
   "metadata": {},
   "outputs": [],
   "source": [
    "dct=DecisionTreeClassifier(random_state=0)\n",
    "dct.fit(x_train_res,y_train_res)\n",
    "y_pred_dct=dct.predict(x_test)"
   ]
  },
  {
   "cell_type": "code",
   "execution_count": 49,
   "id": "e5143e52",
   "metadata": {},
   "outputs": [
    {
     "name": "stdout",
     "output_type": "stream",
     "text": [
      "[[1120   93]\n",
      " [  56    9]]\n"
     ]
    }
   ],
   "source": [
    "cm_dct=confusion_matrix(y_test,y_pred_dct)\n",
    "print(cm_dct)"
   ]
  },
  {
   "cell_type": "code",
   "execution_count": 50,
   "id": "18f7aba8",
   "metadata": {},
   "outputs": [
    {
     "name": "stdout",
     "output_type": "stream",
     "text": [
      "Classification Report\n",
      " :               precision    recall  f1-score   support\n",
      "\n",
      "           0       0.95      0.92      0.94      1213\n",
      "           1       0.09      0.14      0.11        65\n",
      "\n",
      "    accuracy                           0.88      1278\n",
      "   macro avg       0.52      0.53      0.52      1278\n",
      "weighted avg       0.91      0.88      0.90      1278\n",
      "\n"
     ]
    }
   ],
   "source": [
    "print('Classification Report\\n :', metrics.classification_report(y_test,y_pred_dct))"
   ]
  },
  {
   "cell_type": "code",
   "execution_count": 51,
   "id": "e96e8b9e",
   "metadata": {},
   "outputs": [
    {
     "name": "stdout",
     "output_type": "stream",
     "text": [
      "[0.87799863 0.91843729 0.94242632 0.93968472 0.91632373]\n",
      "0.9189741362208552\n"
     ]
    }
   ],
   "source": [
    "vldt5=ms.cross_val_score(estimator=dct,X=x_train_res,y=y_train_res,cv=5)\n",
    "print(vldt5)\n",
    "print(vldt5.mean())"
   ]
  },
  {
   "cell_type": "markdown",
   "id": "aad636c1",
   "metadata": {},
   "source": [
    "RandomForest"
   ]
  },
  {
   "cell_type": "code",
   "execution_count": 52,
   "id": "5e078b5d",
   "metadata": {},
   "outputs": [],
   "source": [
    "rf=RandomForestClassifier()\n",
    "rf.fit(x_train_res,y_train_res)\n",
    "y_pred_rf=rf.predict(x_test)"
   ]
  },
  {
   "cell_type": "code",
   "execution_count": 53,
   "id": "fe5b9568",
   "metadata": {},
   "outputs": [
    {
     "name": "stdout",
     "output_type": "stream",
     "text": [
      "[[1164   49]\n",
      " [  59    6]]\n"
     ]
    }
   ],
   "source": [
    "cm_rf=confusion_matrix(y_test,y_pred_rf)\n",
    "print(cm_rf)"
   ]
  },
  {
   "cell_type": "code",
   "execution_count": 54,
   "id": "0f2d3b77",
   "metadata": {},
   "outputs": [
    {
     "name": "stdout",
     "output_type": "stream",
     "text": [
      "Classification Report\n",
      " :               precision    recall  f1-score   support\n",
      "\n",
      "           0       0.95      0.96      0.96      1213\n",
      "           1       0.11      0.09      0.10        65\n",
      "\n",
      "    accuracy                           0.92      1278\n",
      "   macro avg       0.53      0.53      0.53      1278\n",
      "weighted avg       0.91      0.92      0.91      1278\n",
      "\n"
     ]
    }
   ],
   "source": [
    "print('Classification Report\\n :', metrics.classification_report(y_test,y_pred_rf))"
   ]
  },
  {
   "cell_type": "code",
   "execution_count": 55,
   "id": "8f3974d1",
   "metadata": {},
   "outputs": [
    {
     "name": "stdout",
     "output_type": "stream",
     "text": [
      "[0.91980809 0.96847156 0.96984236 0.96641535 0.96639232]\n",
      "0.9581859345192931\n"
     ]
    }
   ],
   "source": [
    "vldt7=ms.cross_val_score(estimator=rf,X=x_train_res,y=y_train_res,cv=5)\n",
    "print(vldt7)\n",
    "print(vldt7.mean())"
   ]
  },
  {
   "cell_type": "markdown",
   "id": "3ebeecc0",
   "metadata": {},
   "source": [
    "SVC"
   ]
  },
  {
   "cell_type": "code",
   "execution_count": 56,
   "id": "1e0e4fa9",
   "metadata": {},
   "outputs": [],
   "source": [
    "svc=SVC()\n",
    "svc.fit(x_train_res,y_train_res)\n",
    "y_pred_svc=svc.predict(x_test)"
   ]
  },
  {
   "cell_type": "code",
   "execution_count": 57,
   "id": "f6810a96",
   "metadata": {},
   "outputs": [
    {
     "name": "stdout",
     "output_type": "stream",
     "text": [
      "[[991 222]\n",
      " [ 37  28]]\n"
     ]
    }
   ],
   "source": [
    "cm_svc=confusion_matrix(y_test,y_pred_svc)\n",
    "print(cm_svc)"
   ]
  },
  {
   "cell_type": "code",
   "execution_count": 58,
   "id": "875f6bb2",
   "metadata": {},
   "outputs": [
    {
     "name": "stdout",
     "output_type": "stream",
     "text": [
      "Classification Report\n",
      " :               precision    recall  f1-score   support\n",
      "\n",
      "           0       0.96      0.82      0.88      1213\n",
      "           1       0.11      0.43      0.18        65\n",
      "\n",
      "    accuracy                           0.80      1278\n",
      "   macro avg       0.54      0.62      0.53      1278\n",
      "weighted avg       0.92      0.80      0.85      1278\n",
      "\n"
     ]
    }
   ],
   "source": [
    "print('Classification Report\\n :', metrics.classification_report(y_test,y_pred_svc))"
   ]
  },
  {
   "cell_type": "code",
   "execution_count": 59,
   "id": "95c56e76",
   "metadata": {},
   "outputs": [
    {
     "name": "stdout",
     "output_type": "stream",
     "text": [
      "[0.8594928  0.89307745 0.89787526 0.88416724 0.87379973]\n",
      "0.8816824948218851\n"
     ]
    }
   ],
   "source": [
    "vldt8=ms.cross_val_score(estimator=svc,X=x_train_res,y=y_train_res,cv=5)\n",
    "print(vldt8)\n",
    "print(vldt8.mean())"
   ]
  },
  {
   "cell_type": "markdown",
   "id": "0c5f44af",
   "metadata": {},
   "source": [
    "Grid Search"
   ]
  },
  {
   "cell_type": "markdown",
   "id": "4dcbf6c2",
   "metadata": {},
   "source": [
    "Logistic Regression"
   ]
  },
  {
   "cell_type": "code",
   "execution_count": 60,
   "id": "0ac604ce",
   "metadata": {},
   "outputs": [],
   "source": [
    "p=[{'C':[1,2,3,4,5],'random_state':[0]}]"
   ]
  },
  {
   "cell_type": "code",
   "execution_count": 61,
   "id": "be97810e",
   "metadata": {},
   "outputs": [],
   "source": [
    "gs=ms.GridSearchCV(estimator=logr, param_grid=p, scoring='accuracy', cv=5)\n",
    "gs_search=gs.fit(x_train_res,y_train_res)"
   ]
  },
  {
   "cell_type": "code",
   "execution_count": 62,
   "id": "00e01485",
   "metadata": {},
   "outputs": [
    {
     "name": "stdout",
     "output_type": "stream",
     "text": [
      "Best Parameter:  {'C': 3, 'random_state': 0}\n",
      "Best Score:  0.7769390312811733\n"
     ]
    }
   ],
   "source": [
    "print(\"Best Parameter: \",gs_search.best_params_)\n",
    "print(\"Best Score: \",gs_search.best_score_)"
   ]
  },
  {
   "cell_type": "markdown",
   "id": "985eb76b",
   "metadata": {},
   "source": [
    "KNeighbors"
   ]
  },
  {
   "cell_type": "code",
   "execution_count": 63,
   "id": "c59563f6",
   "metadata": {},
   "outputs": [],
   "source": [
    "p=[{'n_neighbors':range(1,11), 'metric': ['euclidean', 'manhattan', 'chebyshev', 'minkowski']}]"
   ]
  },
  {
   "cell_type": "code",
   "execution_count": 64,
   "id": "fa0210ce",
   "metadata": {},
   "outputs": [],
   "source": [
    "gs=ms.GridSearchCV(estimator=knn, param_grid=p, scoring='accuracy', cv=5)\n",
    "gs_search=gs.fit(x_train_res,y_train_res)"
   ]
  },
  {
   "cell_type": "code",
   "execution_count": 65,
   "id": "500535be",
   "metadata": {},
   "outputs": [
    {
     "name": "stdout",
     "output_type": "stream",
     "text": [
      "Best Parameter:  {'metric': 'manhattan', 'n_neighbors': 1}\n",
      "Best Score:  0.9551689480458553\n"
     ]
    }
   ],
   "source": [
    "print(\"Best Parameter: \",gs_search.best_params_)\n",
    "print(\"Best Score: \",gs_search.best_score_)"
   ]
  },
  {
   "cell_type": "markdown",
   "id": "2cde0509",
   "metadata": {},
   "source": [
    "Decision Tree"
   ]
  },
  {
   "cell_type": "code",
   "execution_count": 66,
   "id": "e7a5eb84",
   "metadata": {},
   "outputs": [],
   "source": [
    "p=[{'criterion':['gini','entropy'],'random_state':[0]}]"
   ]
  },
  {
   "cell_type": "code",
   "execution_count": 67,
   "id": "b090e18a",
   "metadata": {},
   "outputs": [],
   "source": [
    "gs=ms.GridSearchCV(estimator=dct, param_grid=p, scoring='accuracy', cv=5)\n",
    "gs_search=gs.fit(x_train_res,y_train_res)"
   ]
  },
  {
   "cell_type": "code",
   "execution_count": 68,
   "id": "47647ac2",
   "metadata": {},
   "outputs": [
    {
     "name": "stdout",
     "output_type": "stream",
     "text": [
      "Best Parameter:  {'criterion': 'entropy', 'random_state': 0}\n",
      "Best Score:  0.9280228391771053\n"
     ]
    }
   ],
   "source": [
    "print(\"Best Parameter: \",gs_search.best_params_)\n",
    "print(\"Best Score: \",gs_search.best_score_)"
   ]
  },
  {
   "cell_type": "markdown",
   "id": "a69e0f9b",
   "metadata": {},
   "source": [
    "Random Forest"
   ]
  },
  {
   "cell_type": "code",
   "execution_count": 83,
   "id": "c62b7e1c",
   "metadata": {},
   "outputs": [],
   "source": [
    "p=[{'n_estimators':range(1,50), 'criterion':['entropy','gini']}]"
   ]
  },
  {
   "cell_type": "code",
   "execution_count": 84,
   "id": "4d10d8ea",
   "metadata": {},
   "outputs": [],
   "source": [
    "gs=ms.GridSearchCV(estimator=rf, param_grid=p, scoring='accuracy', cv=5)\n",
    "gs_search=gs.fit(x_train_res,y_train_res)"
   ]
  },
  {
   "cell_type": "code",
   "execution_count": 85,
   "id": "671fcae1",
   "metadata": {},
   "outputs": [
    {
     "name": "stdout",
     "output_type": "stream",
     "text": [
      "Best Parameter:  {'criterion': 'entropy', 'n_estimators': 42}\n",
      "Best Score:  0.9603795936672336\n"
     ]
    }
   ],
   "source": [
    "print(\"Best Parameter: \",gs_search.best_params_)\n",
    "print(\"Best Score: \",gs_search.best_score_)"
   ]
  },
  {
   "cell_type": "markdown",
   "id": "a9f86c91",
   "metadata": {},
   "source": [
    "SVC"
   ]
  },
  {
   "cell_type": "code",
   "execution_count": 72,
   "id": "472480af",
   "metadata": {},
   "outputs": [],
   "source": [
    "p=[{'C':[1,2,3,4,5], 'kernel':['linear']},{'C':[1,2,3,4,5], 'kernel':['rbf'],'gamma':[1,0.5,0.1,0.01,0.001]}]"
   ]
  },
  {
   "cell_type": "code",
   "execution_count": 73,
   "id": "f4b5595f",
   "metadata": {},
   "outputs": [],
   "source": [
    "gs=ms.GridSearchCV(estimator=svc, param_grid=p, scoring='accuracy',cv=5)\n",
    "gs_search=gs.fit(x_train_res, y_train_res)"
   ]
  },
  {
   "cell_type": "code",
   "execution_count": 74,
   "id": "9432acf4",
   "metadata": {},
   "outputs": [
    {
     "name": "stdout",
     "output_type": "stream",
     "text": [
      "Best Parameter:  {'C': 5, 'gamma': 1, 'kernel': 'rbf'}\n",
      "Best Score:  0.9539347562219647\n"
     ]
    }
   ],
   "source": [
    "print(\"Best Parameter: \",gs_search.best_params_)\n",
    "print(\"Best Score: \",gs_search.best_score_)"
   ]
  },
  {
   "cell_type": "code",
   "execution_count": 75,
   "id": "11f7044b",
   "metadata": {},
   "outputs": [],
   "source": [
    "#Random Forest is best model"
   ]
  },
  {
   "cell_type": "code",
   "execution_count": 86,
   "id": "9f155f3a",
   "metadata": {},
   "outputs": [],
   "source": [
    "randf=RandomForestClassifier(criterion= 'entropy', n_estimators= 42, random_state= 0)\n",
    "randf.fit(x_train_res, y_train_res)\n",
    "y_pred_randf=randf.predict(x_test)"
   ]
  },
  {
   "cell_type": "code",
   "execution_count": 87,
   "id": "92d5762b",
   "metadata": {},
   "outputs": [
    {
     "name": "stdout",
     "output_type": "stream",
     "text": [
      "[[1168   45]\n",
      " [  60    5]]\n"
     ]
    }
   ],
   "source": [
    "cm_randf=confusion_matrix(y_test,y_pred_randf)\n",
    "print(cm_randf)"
   ]
  },
  {
   "cell_type": "code",
   "execution_count": 88,
   "id": "c7a82c41",
   "metadata": {},
   "outputs": [
    {
     "name": "stdout",
     "output_type": "stream",
     "text": [
      "Classification Report\n",
      " :               precision    recall  f1-score   support\n",
      "\n",
      "           0       0.95      0.96      0.96      1213\n",
      "           1       0.10      0.08      0.09        65\n",
      "\n",
      "    accuracy                           0.92      1278\n",
      "   macro avg       0.53      0.52      0.52      1278\n",
      "weighted avg       0.91      0.92      0.91      1278\n",
      "\n"
     ]
    }
   ],
   "source": [
    "print('Classification Report\\n :', metrics.classification_report(y_test,y_pred_randf))"
   ]
  },
  {
   "cell_type": "code",
   "execution_count": 89,
   "id": "10c86bae",
   "metadata": {},
   "outputs": [
    {
     "data": {
      "image/png": "[encoded data removed]",
      "text/plain": [
       "<Figure size 576x360 with 2 Axes>"
      ]
     },
     "metadata": {
      "needs_background": "light"
     },
     "output_type": "display_data"
    }
   ],
   "source": [
    "plt.figure(figsize = (8, 5))\n",
    "sns.heatmap(cm_randf, cmap= 'Reds', annot = True, fmt = 'd', annot_kws = {'fontsize': 15}, \n",
    "            yticklabels = ['No stroke', 'Stroke'], xticklabels = ['Predicted no stroke', 'Predicted stroke'])\n",
    "plt.yticks(rotation = 0)\n",
    "plt.show()"
   ]
  },
  {
   "cell_type": "code",
   "execution_count": 90,
   "id": "99c6b985",
   "metadata": {},
   "outputs": [
    {
     "name": "stdout",
     "output_type": "stream",
     "text": [
      "ROC AUC score: 0.7172870822499842\n",
      "Accuracy Score:  0.9178403755868545\n"
     ]
    }
   ],
   "source": [
    "y_probs=randf.predict_proba(x_test)[:,1]\n",
    "print('ROC AUC score:', roc_auc_score(y_test, y_probs))\n",
    "print('Accuracy Score: ',accuracy_score(y_test, y_pred_randf))"
   ]
  },
  {
   "cell_type": "code",
   "execution_count": 91,
   "id": "a04e524a",
   "metadata": {},
   "outputs": [],
   "source": [
    "false_positive_rate, true_positive_rate, thresholds = roc_curve(y_test, y_probs)\n",
    "roc_auc = auc(false_positive_rate, true_positive_rate)"
   ]
  },
  {
   "cell_type": "code",
   "execution_count": 92,
   "id": "ea68cfcc",
   "metadata": {},
   "outputs": [
    {
     "data": {
      "image/png": "[encoded data removed]",
      "text/plain": [
       "<Figure size 576x576 with 1 Axes>"
      ]
     },
     "metadata": {
      "needs_background": "light"
     },
     "output_type": "display_data"
    }
   ],
   "source": [
    "plt.figure(figsize = (8, 8))\n",
    "plt.plot(false_positive_rate,true_positive_rate, color = 'red', label = 'AUC = %0.3f' % roc_auc)\n",
    "plt.legend(loc = 'lower right')\n",
    "plt.plot([0, 1], [0, 1], linestyle = '--', color = 'blue')\n",
    "plt.axis('tight')\n",
    "plt.ylabel('True Positive Rate')\n",
    "plt.xlabel('False Positive Rate')\n",
    "plt.legend()\n",
    "plt.show()"
   ]
  },
  {
   "cell_type": "markdown",
   "id": "c7a345ac",
   "metadata": {},
   "source": [
    "CLUSTERING"
   ]
  },
  {
   "cell_type": "code",
   "execution_count": 93,
   "id": "4531eff6",
   "metadata": {},
   "outputs": [
    {
     "data": {
      "text/plain": [
       "(5109, 15)"
      ]
     },
     "execution_count": 93,
     "metadata": {},
     "output_type": "execute_result"
    }
   ],
   "source": [
    "X.shape"
   ]
  },
  {
   "cell_type": "code",
   "execution_count": 94,
   "id": "98efe812",
   "metadata": {},
   "outputs": [
    {
     "data": {
      "text/plain": [
       "Text(0, 0.5, 'Cumulative Explained Variance')"
      ]
     },
     "execution_count": 94,
     "metadata": {},
     "output_type": "execute_result"
    },
    {
     "data": {
      "image/png": "[encoded data removed]",
      "text/plain": [
       "<Figure size 432x288 with 1 Axes>"
      ]
     },
     "metadata": {
      "needs_background": "light"
     },
     "output_type": "display_data"
    }
   ],
   "source": [
    "#PCA\n",
    "from sklearn.decomposition import PCA\n",
    "pca = PCA().fit(X)\n",
    "plt.plot(np.cumsum(pca.explained_variance_ratio_))\n",
    "plt.xlabel('Number of Components')\n",
    "plt.ylabel('Cumulative Explained Variance')"
   ]
  },
  {
   "cell_type": "code",
   "execution_count": 97,
   "id": "c33fae38",
   "metadata": {},
   "outputs": [],
   "source": [
    "pca = PCA(n_components=7)\n",
    "principalComponents = pca.fit_transform(X)"
   ]
  },
  {
   "cell_type": "code",
   "execution_count": 98,
   "id": "51b37d71",
   "metadata": {},
   "outputs": [
    {
     "name": "stdout",
     "output_type": "stream",
     "text": [
      "[0.13878117 0.11294491 0.09544526 0.08804988 0.07785407 0.06811674\n",
      " 0.06678892]\n",
      "Sum of explained variance ratio: 0.6479809606551515\n"
     ]
    }
   ],
   "source": [
    "print(pca.explained_variance_ratio_)\n",
    "print('Sum of explained variance ratio:', sum(pca.explained_variance_ratio_))"
   ]
  },
  {
   "cell_type": "code",
   "execution_count": 99,
   "id": "ec0a47b6",
   "metadata": {},
   "outputs": [
    {
     "data": {
      "text/html": [
       "<div>\n",
       "<style scoped>\n",
       "    .dataframe tbody tr th:only-of-type {\n",
       "        vertical-align: middle;\n",
       "    }\n",
       "\n",
       "    .dataframe tbody tr th {\n",
       "        vertical-align: top;\n",
       "    }\n",
       "\n",
       "    .dataframe thead th {\n",
       "        text-align: right;\n",
       "    }\n",
       "</style>\n",
       "<table border=\"1\" class=\"dataframe\">\n",
       "  <thead>\n",
       "    <tr style=\"text-align: right;\">\n",
       "      <th></th>\n",
       "      <th>0</th>\n",
       "      <th>1</th>\n",
       "      <th>2</th>\n",
       "      <th>3</th>\n",
       "      <th>4</th>\n",
       "      <th>5</th>\n",
       "      <th>6</th>\n",
       "    </tr>\n",
       "  </thead>\n",
       "  <tbody>\n",
       "    <tr>\n",
       "      <th>0</th>\n",
       "      <td>4.138525</td>\n",
       "      <td>-1.927473</td>\n",
       "      <td>-0.437913</td>\n",
       "      <td>-1.687231</td>\n",
       "      <td>-0.227388</td>\n",
       "      <td>-0.149965</td>\n",
       "      <td>1.727842</td>\n",
       "    </tr>\n",
       "    <tr>\n",
       "      <th>1</th>\n",
       "      <td>0.869166</td>\n",
       "      <td>0.392535</td>\n",
       "      <td>0.763315</td>\n",
       "      <td>2.320706</td>\n",
       "      <td>0.142373</td>\n",
       "      <td>-0.589172</td>\n",
       "      <td>-0.464062</td>\n",
       "    </tr>\n",
       "    <tr>\n",
       "      <th>2</th>\n",
       "      <td>2.358094</td>\n",
       "      <td>-1.080133</td>\n",
       "      <td>1.726696</td>\n",
       "      <td>-0.721520</td>\n",
       "      <td>1.123388</td>\n",
       "      <td>-1.802579</td>\n",
       "      <td>0.747535</td>\n",
       "    </tr>\n",
       "    <tr>\n",
       "      <th>3</th>\n",
       "      <td>1.226371</td>\n",
       "      <td>1.658923</td>\n",
       "      <td>-1.985594</td>\n",
       "      <td>0.790466</td>\n",
       "      <td>1.620968</td>\n",
       "      <td>1.103445</td>\n",
       "      <td>-0.582734</td>\n",
       "    </tr>\n",
       "    <tr>\n",
       "      <th>4</th>\n",
       "      <td>2.037467</td>\n",
       "      <td>-1.415078</td>\n",
       "      <td>2.517050</td>\n",
       "      <td>0.184655</td>\n",
       "      <td>0.789651</td>\n",
       "      <td>-0.271623</td>\n",
       "      <td>-0.932780</td>\n",
       "    </tr>\n",
       "    <tr>\n",
       "      <th>5</th>\n",
       "      <td>2.158777</td>\n",
       "      <td>-1.298178</td>\n",
       "      <td>-0.661542</td>\n",
       "      <td>-1.101836</td>\n",
       "      <td>-1.390203</td>\n",
       "      <td>0.401426</td>\n",
       "      <td>0.966658</td>\n",
       "    </tr>\n",
       "    <tr>\n",
       "      <th>6</th>\n",
       "      <td>3.009763</td>\n",
       "      <td>-1.481831</td>\n",
       "      <td>2.106869</td>\n",
       "      <td>-0.643346</td>\n",
       "      <td>1.590669</td>\n",
       "      <td>-1.705456</td>\n",
       "      <td>0.416955</td>\n",
       "    </tr>\n",
       "    <tr>\n",
       "      <th>7</th>\n",
       "      <td>-0.555601</td>\n",
       "      <td>-0.896078</td>\n",
       "      <td>1.804384</td>\n",
       "      <td>-0.138842</td>\n",
       "      <td>0.186668</td>\n",
       "      <td>0.889757</td>\n",
       "      <td>-0.811393</td>\n",
       "    </tr>\n",
       "    <tr>\n",
       "      <th>8</th>\n",
       "      <td>0.085559</td>\n",
       "      <td>1.030907</td>\n",
       "      <td>-0.801234</td>\n",
       "      <td>1.383203</td>\n",
       "      <td>-0.509209</td>\n",
       "      <td>-0.567079</td>\n",
       "      <td>-0.923608</td>\n",
       "    </tr>\n",
       "    <tr>\n",
       "      <th>9</th>\n",
       "      <td>0.196505</td>\n",
       "      <td>-0.621366</td>\n",
       "      <td>0.361806</td>\n",
       "      <td>-0.793177</td>\n",
       "      <td>-0.243004</td>\n",
       "      <td>1.246513</td>\n",
       "      <td>-1.204816</td>\n",
       "    </tr>\n",
       "  </tbody>\n",
       "</table>\n",
       "</div>"
      ],
      "text/plain": [
       "          0         1         2         3         4         5         6\n",
       "0  4.138525 -1.927473 -0.437913 -1.687231 -0.227388 -0.149965  1.727842\n",
       "1  0.869166  0.392535  0.763315  2.320706  0.142373 -0.589172 -0.464062\n",
       "2  2.358094 -1.080133  1.726696 -0.721520  1.123388 -1.802579  0.747535\n",
       "3  1.226371  1.658923 -1.985594  0.790466  1.620968  1.103445 -0.582734\n",
       "4  2.037467 -1.415078  2.517050  0.184655  0.789651 -0.271623 -0.932780\n",
       "5  2.158777 -1.298178 -0.661542 -1.101836 -1.390203  0.401426  0.966658\n",
       "6  3.009763 -1.481831  2.106869 -0.643346  1.590669 -1.705456  0.416955\n",
       "7 -0.555601 -0.896078  1.804384 -0.138842  0.186668  0.889757 -0.811393\n",
       "8  0.085559  1.030907 -0.801234  1.383203 -0.509209 -0.567079 -0.923608\n",
       "9  0.196505 -0.621366  0.361806 -0.793177 -0.243004  1.246513 -1.204816"
      ]
     },
     "execution_count": 99,
     "metadata": {},
     "output_type": "execute_result"
    }
   ],
   "source": [
    "X = pd.DataFrame(data= principalComponents)\n",
    "X.head(10)"
   ]
  },
  {
   "cell_type": "markdown",
   "id": "02691507",
   "metadata": {},
   "source": [
    "KMeans Clustering"
   ]
  },
  {
   "cell_type": "code",
   "execution_count": 100,
   "id": "8dfcd840",
   "metadata": {},
   "outputs": [],
   "source": [
    "from sklearn.cluster import KMeans"
   ]
  },
  {
   "cell_type": "code",
   "execution_count": 101,
   "id": "c8547242",
   "metadata": {},
   "outputs": [
    {
     "data": {
      "image/png": "[encoded data removed]",
      "text/plain": [
       "<Figure size 432x288 with 1 Axes>"
      ]
     },
     "metadata": {
      "needs_background": "light"
     },
     "output_type": "display_data"
    }
   ],
   "source": [
    "#Determination of optimal cluster number\n",
    "from sklearn import metrics\n",
    "range_n_clusters = [2, 3, 4, 5, 6]\n",
    "silhouette_avg = []\n",
    "for num_clusters in range_n_clusters:\n",
    "     \n",
    "    kmeans = KMeans(n_clusters=num_clusters)\n",
    "    kmeans.fit(X)\n",
    "    cluster_labels = kmeans.labels_\n",
    "    silhouette_avg.append(metrics.silhouette_score(X, cluster_labels))   \n",
    "plt.plot(range_n_clusters,silhouette_avg, 'bx-')\n",
    "plt.xlabel('Values of K') \n",
    "plt.ylabel('Silhouette Score') \n",
    "plt.title('Silhouette Analysis for Optimal K')\n",
    "plt.show()"
   ]
  },
  {
   "cell_type": "code",
   "execution_count": 102,
   "id": "3e7ae181",
   "metadata": {},
   "outputs": [
    {
     "data": {
      "image/png": "[encoded data removed]",
      "text/plain": [
       "<Figure size 432x288 with 1 Axes>"
      ]
     },
     "metadata": {
      "needs_background": "light"
     },
     "output_type": "display_data"
    }
   ],
   "source": [
    "sonuclar=[]\n",
    "for i in range(1,11):\n",
    "    kmeans=KMeans(n_clusters=i,init='k-means++')\n",
    "    kmeans.fit(X)\n",
    "    sonuclar.append(kmeans.inertia_)\n",
    "plt.plot(range(1,11),sonuclar)\n",
    "plt.show()"
   ]
  },
  {
   "cell_type": "code",
   "execution_count": 103,
   "id": "034eeb6a",
   "metadata": {},
   "outputs": [],
   "source": [
    "kmeans=KMeans(n_clusters=5, init= 'k-means++', random_state=0)\n",
    "predict=kmeans.fit_predict(X)"
   ]
  },
  {
   "cell_type": "code",
   "execution_count": 104,
   "id": "9fa833e1",
   "metadata": {},
   "outputs": [
    {
     "name": "stdout",
     "output_type": "stream",
     "text": [
      "[[-6.16112821e-01  1.26990450e+00  2.27245399e-01 -1.01883582e+00\n",
      "  -1.46607943e-01  1.85393600e-02  3.10984002e-01]\n",
      " [ 7.61722792e-01  7.22975934e-01 -8.30429925e-01  1.53552272e+00\n",
      "  -7.22336247e-02 -6.86440092e-03 -1.50302626e-01]\n",
      " [-1.56606234e+00 -1.07622340e+00 -7.59533668e-02  2.26431160e-01\n",
      "   1.41816076e-01 -2.56588780e-01 -1.41902031e-01]\n",
      " [-2.97041886e+00 -2.67006597e+00  1.73090807e+00  2.67448986e+00\n",
      "   1.56270578e+00  5.58937425e+00  1.02520068e+01]\n",
      " [ 1.56420127e+00 -1.07989728e+00  6.30590520e-01 -6.65132538e-01\n",
      "   7.28060694e-02  1.42392941e-01 -2.49653894e-01]]\n"
     ]
    }
   ],
   "source": [
    "print(kmeans.cluster_centers_)"
   ]
  },
  {
   "cell_type": "code",
   "execution_count": 105,
   "id": "35741bf4",
   "metadata": {},
   "outputs": [
    {
     "data": {
      "image/png": "[encoded data removed]",
      "text/plain": [
       "<Figure size 432x288 with 1 Axes>"
      ]
     },
     "metadata": {
      "needs_background": "light"
     },
     "output_type": "display_data"
    }
   ],
   "source": [
    "X=np.array(X)\n",
    "plt.scatter(X[predict == 0, 0], X[predict == 0, 1], s = 10, c = 'red', label = 'Cluster 1')\n",
    "plt.scatter(X[predict == 1, 0], X[predict == 1, 1], s = 10, c = 'blue', label = 'Cluster 2')\n",
    "plt.scatter(X[predict == 2, 0], X[predict == 2, 1], s = 10, c = 'green', label = 'Cluster 3')\n",
    "plt.scatter(X[predict == 3, 0], X[predict == 3, 1], s = 10, c = 'magenta', label = 'Cluster 4')\n",
    "plt.scatter(X[predict == 4, 0], X[predict == 4, 1], s = 10, c = 'cyan', label = 'Cluster 5')\n",
    "plt.scatter(kmeans.cluster_centers_[:, 0], kmeans.cluster_centers_[:, 1], s = 300, c = 'yellow', label = 'Cluster Centers')\n",
    "plt.xlabel('Component 1')\n",
    "plt.ylabel('Component 2')\n",
    "plt.legend()\n",
    "plt.show()"
   ]
  },
  {
   "cell_type": "code",
   "execution_count": 106,
   "id": "fd7e3af5",
   "metadata": {},
   "outputs": [
    {
     "name": "stdout",
     "output_type": "stream",
     "text": [
      "Silhouette Coefficient: 0.258251\n",
      "Davies Bouldin Index: 1.189035\n",
      "Calinski Harabasz Index: 1141.906483\n"
     ]
    }
   ],
   "source": [
    "from sklearn import metrics\n",
    "print(\"Silhouette Coefficient: %0.6f\"\n",
    "      % metrics.silhouette_score(X, kmeans.labels_ ))\n",
    "print(\"Davies Bouldin Index: %0.6f\"\n",
    "      % metrics.davies_bouldin_score(X, kmeans.labels_ ))\n",
    "print(\"Calinski Harabasz Index: %0.6f\"\n",
    "      % metrics.calinski_harabasz_score(X, kmeans.labels_))"
   ]
  },
  {
   "cell_type": "markdown",
   "id": "a4f70eb2",
   "metadata": {},
   "source": [
    "AgglomerativeClustering"
   ]
  },
  {
   "cell_type": "code",
   "execution_count": 107,
   "id": "ce690a87",
   "metadata": {},
   "outputs": [],
   "source": [
    "from sklearn.cluster import AgglomerativeClustering\n",
    "ac=AgglomerativeClustering(n_clusters=5,affinity=\"euclidean\",linkage=\"ward\")\n",
    "predict=ac.fit_predict(X)"
   ]
  },
  {
   "cell_type": "code",
   "execution_count": 108,
   "id": "4c12bd2c",
   "metadata": {},
   "outputs": [
    {
     "data": {
      "image/png": "[encoded data removed]",
      "text/plain": [
       "<Figure size 432x288 with 1 Axes>"
      ]
     },
     "metadata": {
      "needs_background": "light"
     },
     "output_type": "display_data"
    }
   ],
   "source": [
    "X=np.array(X)\n",
    "plt.scatter(X[predict == 0, 0], X[predict == 0, 1], s = 10, c = 'red', label = 'Cluster 1')\n",
    "plt.scatter(X[predict == 1, 0], X[predict == 1, 1], s = 10, c = 'blue', label = 'Cluster 2')\n",
    "plt.scatter(X[predict == 2, 0], X[predict == 2, 1], s = 10, c = 'green', label = 'Cluster 3')\n",
    "plt.scatter(X[predict == 3, 0], X[predict == 3, 1], s = 10, c = 'magenta', label = 'Cluster 4')\n",
    "plt.scatter(X[predict == 4, 0], X[predict == 4, 1], s = 10, c = 'cyan', label = 'Cluster 5')\n",
    "plt.scatter(kmeans.cluster_centers_[:, 0], kmeans.cluster_centers_[:, 1], s = 300, c = 'yellow', label = 'Cluster Centers')\n",
    "plt.xlabel('Component 1')\n",
    "plt.ylabel('Component 2')\n",
    "plt.legend()\n",
    "plt.show()"
   ]
  },
  {
   "cell_type": "markdown",
   "id": "58ee50bf",
   "metadata": {},
   "source": [
    "REGRESSİON"
   ]
  },
  {
   "cell_type": "code",
   "execution_count": 109,
   "id": "311b3056",
   "metadata": {},
   "outputs": [
    {
     "data": {
      "text/html": [
       "<div>\n",
       "<style scoped>\n",
       "    .dataframe tbody tr th:only-of-type {\n",
       "        vertical-align: middle;\n",
       "    }\n",
       "\n",
       "    .dataframe tbody tr th {\n",
       "        vertical-align: top;\n",
       "    }\n",
       "\n",
       "    .dataframe thead th {\n",
       "        text-align: right;\n",
       "    }\n",
       "</style>\n",
       "<table border=\"1\" class=\"dataframe\">\n",
       "  <thead>\n",
       "    <tr style=\"text-align: right;\">\n",
       "      <th></th>\n",
       "      <th>gender</th>\n",
       "      <th>hypertension</th>\n",
       "      <th>heart_disease</th>\n",
       "      <th>ever_married</th>\n",
       "      <th>Residence_type</th>\n",
       "      <th>avg_glucose_level</th>\n",
       "      <th>bmi</th>\n",
       "      <th>stroke</th>\n",
       "      <th>age_Adult</th>\n",
       "      <th>age_Middle-aged Adult</th>\n",
       "      <th>age_Old Adult</th>\n",
       "      <th>work_type_Never_worked</th>\n",
       "      <th>work_type_Private</th>\n",
       "      <th>work_type_Self-employed</th>\n",
       "      <th>work_type_children</th>\n",
       "      <th>smoking_status_formerly smoked</th>\n",
       "      <th>smoking_status_never smoked</th>\n",
       "      <th>smoking_status_smokes</th>\n",
       "    </tr>\n",
       "  </thead>\n",
       "  <tbody>\n",
       "    <tr>\n",
       "      <th>0</th>\n",
       "      <td>1</td>\n",
       "      <td>0</td>\n",
       "      <td>1</td>\n",
       "      <td>1</td>\n",
       "      <td>1</td>\n",
       "      <td>228.69</td>\n",
       "      <td>36.600000</td>\n",
       "      <td>1</td>\n",
       "      <td>0</td>\n",
       "      <td>0</td>\n",
       "      <td>1</td>\n",
       "      <td>0</td>\n",
       "      <td>1</td>\n",
       "      <td>0</td>\n",
       "      <td>0</td>\n",
       "      <td>1</td>\n",
       "      <td>0</td>\n",
       "      <td>0</td>\n",
       "    </tr>\n",
       "    <tr>\n",
       "      <th>1</th>\n",
       "      <td>0</td>\n",
       "      <td>0</td>\n",
       "      <td>0</td>\n",
       "      <td>1</td>\n",
       "      <td>0</td>\n",
       "      <td>202.21</td>\n",
       "      <td>28.893237</td>\n",
       "      <td>1</td>\n",
       "      <td>0</td>\n",
       "      <td>1</td>\n",
       "      <td>0</td>\n",
       "      <td>0</td>\n",
       "      <td>0</td>\n",
       "      <td>1</td>\n",
       "      <td>0</td>\n",
       "      <td>0</td>\n",
       "      <td>1</td>\n",
       "      <td>0</td>\n",
       "    </tr>\n",
       "    <tr>\n",
       "      <th>2</th>\n",
       "      <td>1</td>\n",
       "      <td>0</td>\n",
       "      <td>1</td>\n",
       "      <td>1</td>\n",
       "      <td>0</td>\n",
       "      <td>105.92</td>\n",
       "      <td>32.500000</td>\n",
       "      <td>1</td>\n",
       "      <td>0</td>\n",
       "      <td>0</td>\n",
       "      <td>1</td>\n",
       "      <td>0</td>\n",
       "      <td>1</td>\n",
       "      <td>0</td>\n",
       "      <td>0</td>\n",
       "      <td>0</td>\n",
       "      <td>1</td>\n",
       "      <td>0</td>\n",
       "    </tr>\n",
       "    <tr>\n",
       "      <th>3</th>\n",
       "      <td>0</td>\n",
       "      <td>0</td>\n",
       "      <td>0</td>\n",
       "      <td>1</td>\n",
       "      <td>1</td>\n",
       "      <td>171.23</td>\n",
       "      <td>34.400000</td>\n",
       "      <td>1</td>\n",
       "      <td>0</td>\n",
       "      <td>1</td>\n",
       "      <td>0</td>\n",
       "      <td>0</td>\n",
       "      <td>1</td>\n",
       "      <td>0</td>\n",
       "      <td>0</td>\n",
       "      <td>0</td>\n",
       "      <td>0</td>\n",
       "      <td>1</td>\n",
       "    </tr>\n",
       "    <tr>\n",
       "      <th>4</th>\n",
       "      <td>0</td>\n",
       "      <td>1</td>\n",
       "      <td>0</td>\n",
       "      <td>1</td>\n",
       "      <td>0</td>\n",
       "      <td>174.12</td>\n",
       "      <td>24.000000</td>\n",
       "      <td>1</td>\n",
       "      <td>0</td>\n",
       "      <td>0</td>\n",
       "      <td>1</td>\n",
       "      <td>0</td>\n",
       "      <td>0</td>\n",
       "      <td>1</td>\n",
       "      <td>0</td>\n",
       "      <td>0</td>\n",
       "      <td>1</td>\n",
       "      <td>0</td>\n",
       "    </tr>\n",
       "  </tbody>\n",
       "</table>\n",
       "</div>"
      ],
      "text/plain": [
       "   gender  hypertension  heart_disease  ever_married  Residence_type  \\\n",
       "0       1             0              1             1               1   \n",
       "1       0             0              0             1               0   \n",
       "2       1             0              1             1               0   \n",
       "3       0             0              0             1               1   \n",
       "4       0             1              0             1               0   \n",
       "\n",
       "   avg_glucose_level        bmi  stroke  age_Adult  age_Middle-aged Adult  \\\n",
       "0             228.69  36.600000       1          0                      0   \n",
       "1             202.21  28.893237       1          0                      1   \n",
       "2             105.92  32.500000       1          0                      0   \n",
       "3             171.23  34.400000       1          0                      1   \n",
       "4             174.12  24.000000       1          0                      0   \n",
       "\n",
       "   age_Old Adult  work_type_Never_worked  work_type_Private  \\\n",
       "0              1                       0                  1   \n",
       "1              0                       0                  0   \n",
       "2              1                       0                  1   \n",
       "3              0                       0                  1   \n",
       "4              1                       0                  0   \n",
       "\n",
       "   work_type_Self-employed  work_type_children  \\\n",
       "0                        0                   0   \n",
       "1                        1                   0   \n",
       "2                        0                   0   \n",
       "3                        0                   0   \n",
       "4                        1                   0   \n",
       "\n",
       "   smoking_status_formerly smoked  smoking_status_never smoked  \\\n",
       "0                               1                            0   \n",
       "1                               0                            1   \n",
       "2                               0                            1   \n",
       "3                               0                            0   \n",
       "4                               0                            1   \n",
       "\n",
       "   smoking_status_smokes  \n",
       "0                      0  \n",
       "1                      0  \n",
       "2                      0  \n",
       "3                      1  \n",
       "4                      0  "
      ]
     },
     "execution_count": 109,
     "metadata": {},
     "output_type": "execute_result"
    }
   ],
   "source": [
    "df.head()"
   ]
  },
  {
   "cell_type": "code",
   "execution_count": 110,
   "id": "ece54ddd",
   "metadata": {},
   "outputs": [],
   "source": [
    "df2=df.copy()"
   ]
  },
  {
   "cell_type": "code",
   "execution_count": 111,
   "id": "074f3acd",
   "metadata": {},
   "outputs": [],
   "source": [
    "df=sc.fit_transform(df)"
   ]
  },
  {
   "cell_type": "code",
   "execution_count": 112,
   "id": "92abd917",
   "metadata": {},
   "outputs": [],
   "source": [
    "df=pd.DataFrame(data=df, columns=df2.columns)"
   ]
  },
  {
   "cell_type": "code",
   "execution_count": 113,
   "id": "1edc0b2c",
   "metadata": {},
   "outputs": [
    {
     "data": {
      "text/html": [
       "<div>\n",
       "<style scoped>\n",
       "    .dataframe tbody tr th:only-of-type {\n",
       "        vertical-align: middle;\n",
       "    }\n",
       "\n",
       "    .dataframe tbody tr th {\n",
       "        vertical-align: top;\n",
       "    }\n",
       "\n",
       "    .dataframe thead th {\n",
       "        text-align: right;\n",
       "    }\n",
       "</style>\n",
       "<table border=\"1\" class=\"dataframe\">\n",
       "  <thead>\n",
       "    <tr style=\"text-align: right;\">\n",
       "      <th></th>\n",
       "      <th>gender</th>\n",
       "      <th>hypertension</th>\n",
       "      <th>heart_disease</th>\n",
       "      <th>ever_married</th>\n",
       "      <th>Residence_type</th>\n",
       "      <th>avg_glucose_level</th>\n",
       "      <th>bmi</th>\n",
       "      <th>stroke</th>\n",
       "      <th>age_Adult</th>\n",
       "      <th>age_Middle-aged Adult</th>\n",
       "      <th>age_Old Adult</th>\n",
       "      <th>work_type_Never_worked</th>\n",
       "      <th>work_type_Private</th>\n",
       "      <th>work_type_Self-employed</th>\n",
       "      <th>work_type_children</th>\n",
       "      <th>smoking_status_formerly smoked</th>\n",
       "      <th>smoking_status_never smoked</th>\n",
       "      <th>smoking_status_smokes</th>\n",
       "    </tr>\n",
       "  </thead>\n",
       "  <tbody>\n",
       "    <tr>\n",
       "      <th>0</th>\n",
       "      <td>1.189791</td>\n",
       "      <td>-0.328637</td>\n",
       "      <td>4.184599</td>\n",
       "      <td>0.723678</td>\n",
       "      <td>0.983884</td>\n",
       "      <td>2.706450</td>\n",
       "      <td>1.001041</td>\n",
       "      <td>4.417926</td>\n",
       "      <td>-0.59144</td>\n",
       "      <td>-0.573357</td>\n",
       "      <td>1.777758</td>\n",
       "      <td>-0.065763</td>\n",
       "      <td>0.864444</td>\n",
       "      <td>-0.436931</td>\n",
       "      <td>-0.394157</td>\n",
       "      <td>2.186187</td>\n",
       "      <td>-0.766893</td>\n",
       "      <td>-0.427363</td>\n",
       "    </tr>\n",
       "    <tr>\n",
       "      <th>1</th>\n",
       "      <td>-0.840484</td>\n",
       "      <td>-0.328637</td>\n",
       "      <td>-0.238972</td>\n",
       "      <td>0.723678</td>\n",
       "      <td>-1.016380</td>\n",
       "      <td>2.121652</td>\n",
       "      <td>-0.000165</td>\n",
       "      <td>4.417926</td>\n",
       "      <td>-0.59144</td>\n",
       "      <td>1.744113</td>\n",
       "      <td>-0.562506</td>\n",
       "      <td>-0.065763</td>\n",
       "      <td>-1.156812</td>\n",
       "      <td>2.288689</td>\n",
       "      <td>-0.394157</td>\n",
       "      <td>-0.457417</td>\n",
       "      <td>1.303962</td>\n",
       "      <td>-0.427363</td>\n",
       "    </tr>\n",
       "    <tr>\n",
       "      <th>2</th>\n",
       "      <td>1.189791</td>\n",
       "      <td>-0.328637</td>\n",
       "      <td>4.184599</td>\n",
       "      <td>0.723678</td>\n",
       "      <td>-1.016380</td>\n",
       "      <td>-0.004867</td>\n",
       "      <td>0.468399</td>\n",
       "      <td>4.417926</td>\n",
       "      <td>-0.59144</td>\n",
       "      <td>-0.573357</td>\n",
       "      <td>1.777758</td>\n",
       "      <td>-0.065763</td>\n",
       "      <td>0.864444</td>\n",
       "      <td>-0.436931</td>\n",
       "      <td>-0.394157</td>\n",
       "      <td>-0.457417</td>\n",
       "      <td>1.303962</td>\n",
       "      <td>-0.427363</td>\n",
       "    </tr>\n",
       "    <tr>\n",
       "      <th>3</th>\n",
       "      <td>-0.840484</td>\n",
       "      <td>-0.328637</td>\n",
       "      <td>-0.238972</td>\n",
       "      <td>0.723678</td>\n",
       "      <td>0.983884</td>\n",
       "      <td>1.437473</td>\n",
       "      <td>0.715233</td>\n",
       "      <td>4.417926</td>\n",
       "      <td>-0.59144</td>\n",
       "      <td>1.744113</td>\n",
       "      <td>-0.562506</td>\n",
       "      <td>-0.065763</td>\n",
       "      <td>0.864444</td>\n",
       "      <td>-0.436931</td>\n",
       "      <td>-0.394157</td>\n",
       "      <td>-0.457417</td>\n",
       "      <td>-0.766893</td>\n",
       "      <td>2.339933</td>\n",
       "    </tr>\n",
       "    <tr>\n",
       "      <th>4</th>\n",
       "      <td>-0.840484</td>\n",
       "      <td>3.042866</td>\n",
       "      <td>-0.238972</td>\n",
       "      <td>0.723678</td>\n",
       "      <td>-1.016380</td>\n",
       "      <td>1.501297</td>\n",
       "      <td>-0.635858</td>\n",
       "      <td>4.417926</td>\n",
       "      <td>-0.59144</td>\n",
       "      <td>-0.573357</td>\n",
       "      <td>1.777758</td>\n",
       "      <td>-0.065763</td>\n",
       "      <td>-1.156812</td>\n",
       "      <td>2.288689</td>\n",
       "      <td>-0.394157</td>\n",
       "      <td>-0.457417</td>\n",
       "      <td>1.303962</td>\n",
       "      <td>-0.427363</td>\n",
       "    </tr>\n",
       "  </tbody>\n",
       "</table>\n",
       "</div>"
      ],
      "text/plain": [
       "     gender  hypertension  heart_disease  ever_married  Residence_type  \\\n",
       "0  1.189791     -0.328637       4.184599      0.723678        0.983884   \n",
       "1 -0.840484     -0.328637      -0.238972      0.723678       -1.016380   \n",
       "2  1.189791     -0.328637       4.184599      0.723678       -1.016380   \n",
       "3 -0.840484     -0.328637      -0.238972      0.723678        0.983884   \n",
       "4 -0.840484      3.042866      -0.238972      0.723678       -1.016380   \n",
       "\n",
       "   avg_glucose_level       bmi    stroke  age_Adult  age_Middle-aged Adult  \\\n",
       "0           2.706450  1.001041  4.417926   -0.59144              -0.573357   \n",
       "1           2.121652 -0.000165  4.417926   -0.59144               1.744113   \n",
       "2          -0.004867  0.468399  4.417926   -0.59144              -0.573357   \n",
       "3           1.437473  0.715233  4.417926   -0.59144               1.744113   \n",
       "4           1.501297 -0.635858  4.417926   -0.59144              -0.573357   \n",
       "\n",
       "   age_Old Adult  work_type_Never_worked  work_type_Private  \\\n",
       "0       1.777758               -0.065763           0.864444   \n",
       "1      -0.562506               -0.065763          -1.156812   \n",
       "2       1.777758               -0.065763           0.864444   \n",
       "3      -0.562506               -0.065763           0.864444   \n",
       "4       1.777758               -0.065763          -1.156812   \n",
       "\n",
       "   work_type_Self-employed  work_type_children  \\\n",
       "0                -0.436931           -0.394157   \n",
       "1                 2.288689           -0.394157   \n",
       "2                -0.436931           -0.394157   \n",
       "3                -0.436931           -0.394157   \n",
       "4                 2.288689           -0.394157   \n",
       "\n",
       "   smoking_status_formerly smoked  smoking_status_never smoked  \\\n",
       "0                        2.186187                    -0.766893   \n",
       "1                       -0.457417                     1.303962   \n",
       "2                       -0.457417                     1.303962   \n",
       "3                       -0.457417                    -0.766893   \n",
       "4                       -0.457417                     1.303962   \n",
       "\n",
       "   smoking_status_smokes  \n",
       "0              -0.427363  \n",
       "1              -0.427363  \n",
       "2              -0.427363  \n",
       "3               2.339933  \n",
       "4              -0.427363  "
      ]
     },
     "execution_count": 113,
     "metadata": {},
     "output_type": "execute_result"
    }
   ],
   "source": [
    "df.head()"
   ]
  },
  {
   "cell_type": "code",
   "execution_count": 114,
   "id": "d3f05d79",
   "metadata": {},
   "outputs": [],
   "source": [
    "#Target-bmi\n",
    "X=df.drop(df[['bmi']], axis=1)\n",
    "Y=df['bmi']"
   ]
  },
  {
   "cell_type": "code",
   "execution_count": 115,
   "id": "c9555ee0",
   "metadata": {},
   "outputs": [
    {
     "data": {
      "text/html": [
       "<table class=\"simpletable\">\n",
       "<caption>OLS Regression Results</caption>\n",
       "<tr>\n",
       "  <th>Dep. Variable:</th>           <td>bmi</td>       <th>  R-squared (uncentered):</th>      <td>   0.246</td> \n",
       "</tr>\n",
       "<tr>\n",
       "  <th>Model:</th>                   <td>OLS</td>       <th>  Adj. R-squared (uncentered):</th> <td>   0.243</td> \n",
       "</tr>\n",
       "<tr>\n",
       "  <th>Method:</th>             <td>Least Squares</td>  <th>  F-statistic:       </th>          <td>   97.55</td> \n",
       "</tr>\n",
       "<tr>\n",
       "  <th>Date:</th>             <td>Fri, 11 Nov 2022</td> <th>  Prob (F-statistic):</th>          <td>1.31e-295</td>\n",
       "</tr>\n",
       "<tr>\n",
       "  <th>Time:</th>                 <td>19:50:59</td>     <th>  Log-Likelihood:    </th>          <td> -6529.2</td> \n",
       "</tr>\n",
       "<tr>\n",
       "  <th>No. Observations:</th>      <td>  5109</td>      <th>  AIC:               </th>          <td>1.309e+04</td>\n",
       "</tr>\n",
       "<tr>\n",
       "  <th>Df Residuals:</th>          <td>  5092</td>      <th>  BIC:               </th>          <td>1.320e+04</td>\n",
       "</tr>\n",
       "<tr>\n",
       "  <th>Df Model:</th>              <td>    17</td>      <th>                     </th>              <td> </td>    \n",
       "</tr>\n",
       "<tr>\n",
       "  <th>Covariance Type:</th>      <td>nonrobust</td>    <th>                     </th>              <td> </td>    \n",
       "</tr>\n",
       "</table>\n",
       "<table class=\"simpletable\">\n",
       "<tr>\n",
       "                 <td></td>                   <th>coef</th>     <th>std err</th>      <th>t</th>      <th>P>|t|</th>  <th>[0.025</th>    <th>0.975]</th>  \n",
       "</tr>\n",
       "<tr>\n",
       "  <th>gender</th>                         <td>    0.0047</td> <td>    0.012</td> <td>    0.379</td> <td> 0.704</td> <td>   -0.020</td> <td>    0.029</td>\n",
       "</tr>\n",
       "<tr>\n",
       "  <th>hypertension</th>                   <td>    0.0900</td> <td>    0.013</td> <td>    7.018</td> <td> 0.000</td> <td>    0.065</td> <td>    0.115</td>\n",
       "</tr>\n",
       "<tr>\n",
       "  <th>heart_disease</th>                  <td>   -0.0150</td> <td>    0.013</td> <td>   -1.162</td> <td> 0.245</td> <td>   -0.040</td> <td>    0.010</td>\n",
       "</tr>\n",
       "<tr>\n",
       "  <th>ever_married</th>                   <td>    0.0543</td> <td>    0.019</td> <td>    2.916</td> <td> 0.004</td> <td>    0.018</td> <td>    0.091</td>\n",
       "</tr>\n",
       "<tr>\n",
       "  <th>Residence_type</th>                 <td>   -0.0004</td> <td>    0.012</td> <td>   -0.035</td> <td> 0.972</td> <td>   -0.024</td> <td>    0.023</td>\n",
       "</tr>\n",
       "<tr>\n",
       "  <th>avg_glucose_level</th>              <td>    0.1131</td> <td>    0.013</td> <td>    8.869</td> <td> 0.000</td> <td>    0.088</td> <td>    0.138</td>\n",
       "</tr>\n",
       "<tr>\n",
       "  <th>stroke</th>                         <td>   -0.0128</td> <td>    0.013</td> <td>   -1.014</td> <td> 0.311</td> <td>   -0.038</td> <td>    0.012</td>\n",
       "</tr>\n",
       "<tr>\n",
       "  <th>age_Adult</th>                      <td>    0.1495</td> <td>    0.022</td> <td>    6.815</td> <td> 0.000</td> <td>    0.106</td> <td>    0.192</td>\n",
       "</tr>\n",
       "<tr>\n",
       "  <th>age_Middle-aged Adult</th>          <td>    0.1539</td> <td>    0.024</td> <td>    6.487</td> <td> 0.000</td> <td>    0.107</td> <td>    0.200</td>\n",
       "</tr>\n",
       "<tr>\n",
       "  <th>age_Old Adult</th>                  <td>    0.0413</td> <td>    0.025</td> <td>    1.673</td> <td> 0.094</td> <td>   -0.007</td> <td>    0.090</td>\n",
       "</tr>\n",
       "<tr>\n",
       "  <th>work_type_Never_worked</th>         <td>   -0.0137</td> <td>    0.013</td> <td>   -1.088</td> <td> 0.277</td> <td>   -0.038</td> <td>    0.011</td>\n",
       "</tr>\n",
       "<tr>\n",
       "  <th>work_type_Private</th>              <td>    0.0127</td> <td>    0.019</td> <td>    0.677</td> <td> 0.499</td> <td>   -0.024</td> <td>    0.049</td>\n",
       "</tr>\n",
       "<tr>\n",
       "  <th>work_type_Self-employed</th>        <td>   -0.0071</td> <td>    0.017</td> <td>   -0.417</td> <td> 0.677</td> <td>   -0.040</td> <td>    0.026</td>\n",
       "</tr>\n",
       "<tr>\n",
       "  <th>work_type_children</th>             <td>   -0.2972</td> <td>    0.022</td> <td>  -13.709</td> <td> 0.000</td> <td>   -0.340</td> <td>   -0.255</td>\n",
       "</tr>\n",
       "<tr>\n",
       "  <th>smoking_status_formerly smoked</th> <td>    0.0351</td> <td>    0.015</td> <td>    2.279</td> <td> 0.023</td> <td>    0.005</td> <td>    0.065</td>\n",
       "</tr>\n",
       "<tr>\n",
       "  <th>smoking_status_never smoked</th>    <td>    0.0215</td> <td>    0.016</td> <td>    1.314</td> <td> 0.189</td> <td>   -0.011</td> <td>    0.053</td>\n",
       "</tr>\n",
       "<tr>\n",
       "  <th>smoking_status_smokes</th>          <td>    0.0126</td> <td>    0.015</td> <td>    0.833</td> <td> 0.405</td> <td>   -0.017</td> <td>    0.042</td>\n",
       "</tr>\n",
       "</table>\n",
       "<table class=\"simpletable\">\n",
       "<tr>\n",
       "  <th>Omnibus:</th>       <td>1682.231</td> <th>  Durbin-Watson:     </th> <td>   2.005</td>\n",
       "</tr>\n",
       "<tr>\n",
       "  <th>Prob(Omnibus):</th>  <td> 0.000</td>  <th>  Jarque-Bera (JB):  </th> <td>9170.744</td>\n",
       "</tr>\n",
       "<tr>\n",
       "  <th>Skew:</th>           <td> 1.474</td>  <th>  Prob(JB):          </th> <td>    0.00</td>\n",
       "</tr>\n",
       "<tr>\n",
       "  <th>Kurtosis:</th>       <td> 8.865</td>  <th>  Cond. No.          </th> <td>    5.18</td>\n",
       "</tr>\n",
       "</table><br/><br/>Notes:<br/>[1] R² is computed without centering (uncentered) since the model does not contain a constant.<br/>[2] Standard Errors assume that the covariance matrix of the errors is correctly specified."
      ],
      "text/plain": [
       "<class 'statsmodels.iolib.summary.Summary'>\n",
       "\"\"\"\n",
       "                                 OLS Regression Results                                \n",
       "=======================================================================================\n",
       "Dep. Variable:                    bmi   R-squared (uncentered):                   0.246\n",
       "Model:                            OLS   Adj. R-squared (uncentered):              0.243\n",
       "Method:                 Least Squares   F-statistic:                              97.55\n",
       "Date:                Fri, 11 Nov 2022   Prob (F-statistic):                   1.31e-295\n",
       "Time:                        19:50:59   Log-Likelihood:                         -6529.2\n",
       "No. Observations:                5109   AIC:                                  1.309e+04\n",
       "Df Residuals:                    5092   BIC:                                  1.320e+04\n",
       "Df Model:                          17                                                  \n",
       "Covariance Type:            nonrobust                                                  \n",
       "==================================================================================================\n",
       "                                     coef    std err          t      P>|t|      [0.025      0.975]\n",
       "--------------------------------------------------------------------------------------------------\n",
       "gender                             0.0047      0.012      0.379      0.704      -0.020       0.029\n",
       "hypertension                       0.0900      0.013      7.018      0.000       0.065       0.115\n",
       "heart_disease                     -0.0150      0.013     -1.162      0.245      -0.040       0.010\n",
       "ever_married                       0.0543      0.019      2.916      0.004       0.018       0.091\n",
       "Residence_type                    -0.0004      0.012     -0.035      0.972      -0.024       0.023\n",
       "avg_glucose_level                  0.1131      0.013      8.869      0.000       0.088       0.138\n",
       "stroke                            -0.0128      0.013     -1.014      0.311      -0.038       0.012\n",
       "age_Adult                          0.1495      0.022      6.815      0.000       0.106       0.192\n",
       "age_Middle-aged Adult              0.1539      0.024      6.487      0.000       0.107       0.200\n",
       "age_Old Adult                      0.0413      0.025      1.673      0.094      -0.007       0.090\n",
       "work_type_Never_worked            -0.0137      0.013     -1.088      0.277      -0.038       0.011\n",
       "work_type_Private                  0.0127      0.019      0.677      0.499      -0.024       0.049\n",
       "work_type_Self-employed           -0.0071      0.017     -0.417      0.677      -0.040       0.026\n",
       "work_type_children                -0.2972      0.022    -13.709      0.000      -0.340      -0.255\n",
       "smoking_status_formerly smoked     0.0351      0.015      2.279      0.023       0.005       0.065\n",
       "smoking_status_never smoked        0.0215      0.016      1.314      0.189      -0.011       0.053\n",
       "smoking_status_smokes              0.0126      0.015      0.833      0.405      -0.017       0.042\n",
       "==============================================================================\n",
       "Omnibus:                     1682.231   Durbin-Watson:                   2.005\n",
       "Prob(Omnibus):                  0.000   Jarque-Bera (JB):             9170.744\n",
       "Skew:                           1.474   Prob(JB):                         0.00\n",
       "Kurtosis:                       8.865   Cond. No.                         5.18\n",
       "==============================================================================\n",
       "\n",
       "Notes:\n",
       "[1] R² is computed without centering (uncentered) since the model does not contain a constant.\n",
       "[2] Standard Errors assume that the covariance matrix of the errors is correctly specified.\n",
       "\"\"\""
      ]
     },
     "execution_count": 115,
     "metadata": {},
     "output_type": "execute_result"
    }
   ],
   "source": [
    "#Backward Elimination\n",
    "model = st.OLS(Y,X).fit()\n",
    "model.summary()"
   ]
  },
  {
   "cell_type": "code",
   "execution_count": 116,
   "id": "d6e0af6c",
   "metadata": {},
   "outputs": [
    {
     "data": {
      "text/html": [
       "<table class=\"simpletable\">\n",
       "<caption>OLS Regression Results</caption>\n",
       "<tr>\n",
       "  <th>Dep. Variable:</th>           <td>bmi</td>       <th>  R-squared (uncentered):</th>      <td>   0.244</td> \n",
       "</tr>\n",
       "<tr>\n",
       "  <th>Model:</th>                   <td>OLS</td>       <th>  Adj. R-squared (uncentered):</th> <td>   0.243</td> \n",
       "</tr>\n",
       "<tr>\n",
       "  <th>Method:</th>             <td>Least Squares</td>  <th>  F-statistic:       </th>          <td>   235.6</td> \n",
       "</tr>\n",
       "<tr>\n",
       "  <th>Date:</th>             <td>Fri, 11 Nov 2022</td> <th>  Prob (F-statistic):</th>          <td>1.31e-304</td>\n",
       "</tr>\n",
       "<tr>\n",
       "  <th>Time:</th>                 <td>19:51:47</td>     <th>  Log-Likelihood:    </th>          <td> -6533.8</td> \n",
       "</tr>\n",
       "<tr>\n",
       "  <th>No. Observations:</th>      <td>  5109</td>      <th>  AIC:               </th>          <td>1.308e+04</td>\n",
       "</tr>\n",
       "<tr>\n",
       "  <th>Df Residuals:</th>          <td>  5102</td>      <th>  BIC:               </th>          <td>1.313e+04</td>\n",
       "</tr>\n",
       "<tr>\n",
       "  <th>Df Model:</th>              <td>     7</td>      <th>                     </th>              <td> </td>    \n",
       "</tr>\n",
       "<tr>\n",
       "  <th>Covariance Type:</th>      <td>nonrobust</td>    <th>                     </th>              <td> </td>    \n",
       "</tr>\n",
       "</table>\n",
       "<table class=\"simpletable\">\n",
       "<tr>\n",
       "                 <td></td>                   <th>coef</th>     <th>std err</th>      <th>t</th>      <th>P>|t|</th>  <th>[0.025</th>    <th>0.975]</th>  \n",
       "</tr>\n",
       "<tr>\n",
       "  <th>hypertension</th>                   <td>    0.0924</td> <td>    0.013</td> <td>    7.328</td> <td> 0.000</td> <td>    0.068</td> <td>    0.117</td>\n",
       "</tr>\n",
       "<tr>\n",
       "  <th>ever_married</th>                   <td>    0.0698</td> <td>    0.015</td> <td>    4.563</td> <td> 0.000</td> <td>    0.040</td> <td>    0.100</td>\n",
       "</tr>\n",
       "<tr>\n",
       "  <th>avg_glucose_level</th>              <td>    0.1136</td> <td>    0.013</td> <td>    9.035</td> <td> 0.000</td> <td>    0.089</td> <td>    0.138</td>\n",
       "</tr>\n",
       "<tr>\n",
       "  <th>age_Adult</th>                      <td>    0.1294</td> <td>    0.014</td> <td>    9.166</td> <td> 0.000</td> <td>    0.102</td> <td>    0.157</td>\n",
       "</tr>\n",
       "<tr>\n",
       "  <th>age_Middle-aged Adult</th>          <td>    0.1274</td> <td>    0.014</td> <td>    8.945</td> <td> 0.000</td> <td>    0.099</td> <td>    0.155</td>\n",
       "</tr>\n",
       "<tr>\n",
       "  <th>work_type_children</th>             <td>   -0.3183</td> <td>    0.015</td> <td>  -20.964</td> <td> 0.000</td> <td>   -0.348</td> <td>   -0.289</td>\n",
       "</tr>\n",
       "<tr>\n",
       "  <th>smoking_status_formerly smoked</th> <td>    0.0253</td> <td>    0.012</td> <td>    2.033</td> <td> 0.042</td> <td>    0.001</td> <td>    0.050</td>\n",
       "</tr>\n",
       "</table>\n",
       "<table class=\"simpletable\">\n",
       "<tr>\n",
       "  <th>Omnibus:</th>       <td>1670.559</td> <th>  Durbin-Watson:     </th> <td>   2.003</td>\n",
       "</tr>\n",
       "<tr>\n",
       "  <th>Prob(Omnibus):</th>  <td> 0.000</td>  <th>  Jarque-Bera (JB):  </th> <td>8987.303</td>\n",
       "</tr>\n",
       "<tr>\n",
       "  <th>Skew:</th>           <td> 1.467</td>  <th>  Prob(JB):          </th> <td>    0.00</td>\n",
       "</tr>\n",
       "<tr>\n",
       "  <th>Kurtosis:</th>       <td> 8.798</td>  <th>  Cond. No.          </th> <td>    2.11</td>\n",
       "</tr>\n",
       "</table><br/><br/>Notes:<br/>[1] R² is computed without centering (uncentered) since the model does not contain a constant.<br/>[2] Standard Errors assume that the covariance matrix of the errors is correctly specified."
      ],
      "text/plain": [
       "<class 'statsmodels.iolib.summary.Summary'>\n",
       "\"\"\"\n",
       "                                 OLS Regression Results                                \n",
       "=======================================================================================\n",
       "Dep. Variable:                    bmi   R-squared (uncentered):                   0.244\n",
       "Model:                            OLS   Adj. R-squared (uncentered):              0.243\n",
       "Method:                 Least Squares   F-statistic:                              235.6\n",
       "Date:                Fri, 11 Nov 2022   Prob (F-statistic):                   1.31e-304\n",
       "Time:                        19:51:47   Log-Likelihood:                         -6533.8\n",
       "No. Observations:                5109   AIC:                                  1.308e+04\n",
       "Df Residuals:                    5102   BIC:                                  1.313e+04\n",
       "Df Model:                           7                                                  \n",
       "Covariance Type:            nonrobust                                                  \n",
       "==================================================================================================\n",
       "                                     coef    std err          t      P>|t|      [0.025      0.975]\n",
       "--------------------------------------------------------------------------------------------------\n",
       "hypertension                       0.0924      0.013      7.328      0.000       0.068       0.117\n",
       "ever_married                       0.0698      0.015      4.563      0.000       0.040       0.100\n",
       "avg_glucose_level                  0.1136      0.013      9.035      0.000       0.089       0.138\n",
       "age_Adult                          0.1294      0.014      9.166      0.000       0.102       0.157\n",
       "age_Middle-aged Adult              0.1274      0.014      8.945      0.000       0.099       0.155\n",
       "work_type_children                -0.3183      0.015    -20.964      0.000      -0.348      -0.289\n",
       "smoking_status_formerly smoked     0.0253      0.012      2.033      0.042       0.001       0.050\n",
       "==============================================================================\n",
       "Omnibus:                     1670.559   Durbin-Watson:                   2.003\n",
       "Prob(Omnibus):                  0.000   Jarque-Bera (JB):             8987.303\n",
       "Skew:                           1.467   Prob(JB):                         0.00\n",
       "Kurtosis:                       8.798   Cond. No.                         2.11\n",
       "==============================================================================\n",
       "\n",
       "Notes:\n",
       "[1] R² is computed without centering (uncentered) since the model does not contain a constant.\n",
       "[2] Standard Errors assume that the covariance matrix of the errors is correctly specified.\n",
       "\"\"\""
      ]
     },
     "execution_count": 116,
     "metadata": {},
     "output_type": "execute_result"
    }
   ],
   "source": [
    "x_l=X.iloc[:,[1,3,5,7,8,13,14]]\n",
    "model2=st.OLS(Y,x_l).fit()\n",
    "model2.summary()"
   ]
  },
  {
   "cell_type": "code",
   "execution_count": 117,
   "id": "5d7d892c",
   "metadata": {},
   "outputs": [],
   "source": [
    "x_train, x_test, y_train, y_test=train_test_split(x_l,Y,test_size=0.33,random_state=0)"
   ]
  },
  {
   "cell_type": "markdown",
   "id": "e7c146f8",
   "metadata": {},
   "source": [
    "Linear Regression"
   ]
  },
  {
   "cell_type": "code",
   "execution_count": 118,
   "id": "632e1058",
   "metadata": {},
   "outputs": [],
   "source": [
    "lr=LinearRegression()\n",
    "lr.fit(x_train,y_train)\n",
    "y_pred_lr=lr.predict(x_test)"
   ]
  },
  {
   "cell_type": "code",
   "execution_count": 119,
   "id": "cafc6589",
   "metadata": {},
   "outputs": [
    {
     "name": "stdout",
     "output_type": "stream",
     "text": [
      "0.6351457011682663\n",
      "0.7422384378727329\n",
      "0.26111562181232706\n"
     ]
    }
   ],
   "source": [
    "print(mean_absolute_error(y_test, y_pred_lr))\n",
    "print(mean_squared_error(y_test, y_pred_lr))\n",
    "print(r2_score(y_test, y_pred_lr))"
   ]
  },
  {
   "cell_type": "markdown",
   "id": "dd184125",
   "metadata": {},
   "source": [
    "SVR"
   ]
  },
  {
   "cell_type": "code",
   "execution_count": 123,
   "id": "179fae9f",
   "metadata": {},
   "outputs": [],
   "source": [
    "sr=SVR(kernel='rbf')\n",
    "sr.fit(x_train, y_train)\n",
    "y_pred_sr=sr.predict(x_test)"
   ]
  },
  {
   "cell_type": "code",
   "execution_count": 124,
   "id": "2ee4323b",
   "metadata": {},
   "outputs": [
    {
     "name": "stdout",
     "output_type": "stream",
     "text": [
      "0.6334015697767038\n",
      "0.7779624154726433\n",
      "0.2255530752929752\n"
     ]
    }
   ],
   "source": [
    "print(mean_absolute_error(y_test, y_pred_sr))\n",
    "print(mean_squared_error(y_test, y_pred_sr))\n",
    "print(r2_score(y_test, y_pred_sr))"
   ]
  },
  {
   "cell_type": "markdown",
   "id": "f5eb7364",
   "metadata": {},
   "source": [
    "Decision Tree Regression"
   ]
  },
  {
   "cell_type": "code",
   "execution_count": 125,
   "id": "ccadb7f4",
   "metadata": {},
   "outputs": [],
   "source": [
    "dr=DecisionTreeRegressor(random_state=0)\n",
    "dr.fit(x_train, y_train)\n",
    "y_pred_dr=dr.predict(x_test)"
   ]
  },
  {
   "cell_type": "code",
   "execution_count": 126,
   "id": "a0b764f0",
   "metadata": {},
   "outputs": [
    {
     "name": "stdout",
     "output_type": "stream",
     "text": [
      "0.9329669231316411\n",
      "1.5525938779767394\n",
      "-0.5455779485022199\n"
     ]
    }
   ],
   "source": [
    "print(mean_absolute_error(y_test, y_pred_dr))\n",
    "print(mean_squared_error(y_test, y_pred_dr))\n",
    "print(r2_score(y_test, y_pred_dr))"
   ]
  },
  {
   "cell_type": "code",
   "execution_count": null,
   "id": "36a00d69",
   "metadata": {},
   "outputs": [],
   "source": []
  }
 ],
 "metadata": {
  "kernelspec": {
   "display_name": "Python 3 (ipykernel)",
   "language": "python",
   "name": "python3"
  },
  "language_info": {
   "codemirror_mode": {
    "name": "ipython",
    "version": 3
   },
   "file_extension": ".py",
   "mimetype": "text/x-python",
   "name": "python",
   "nbconvert_exporter": "python",
   "pygments_lexer": "ipython3",
   "version": "3.9.12"
  }
 },
 "nbformat": 4,
 "nbformat_minor": 5
}
